{
  "nbformat": 4,
  "nbformat_minor": 0,
  "metadata": {
    "colab": {
      "name": "Task_1.ipynb",
      "provenance": [],
      "collapsed_sections": []
    },
    "kernelspec": {
      "name": "python3",
      "display_name": "Python 3"
    },
    "language_info": {
      "name": "python"
    },
    "accelerator": "GPU"
  },
  "cells": [
    {
      "cell_type": "markdown",
      "metadata": {
        "id": "vnA9dXOiohE9"
      },
      "source": [
        "# Importing processed data from Google Drive"
      ]
    },
    {
      "cell_type": "code",
      "metadata": {
        "colab": {
          "base_uri": "https://localhost:8080/"
        },
        "id": "hWGzqSHVSQtz",
        "outputId": "01bf93fa-1f3b-42a7-fd15-856f2f019c66"
      },
      "source": [
        "from google.colab import drive\n",
        "drive.mount('/content/drive')"
      ],
      "execution_count": 61,
      "outputs": [
        {
          "output_type": "stream",
          "text": [
            "Drive already mounted at /content/drive; to attempt to forcibly remount, call drive.mount(\"/content/drive\", force_remount=True).\n"
          ],
          "name": "stdout"
        }
      ]
    },
    {
      "cell_type": "code",
      "metadata": {
        "colab": {
          "base_uri": "https://localhost:8080/"
        },
        "id": "HTNNAYo8VN71",
        "outputId": "d0f99177-ea37-476a-a831-9b60eed7cd20"
      },
      "source": [
        "%cd /content/drive/MyDrive/dataset/Pascal_VOC/cache/"
      ],
      "execution_count": 62,
      "outputs": [
        {
          "output_type": "stream",
          "text": [
            "/content/drive/MyDrive/dataset/Pascal_VOC/cache\n"
          ],
          "name": "stdout"
        }
      ]
    },
    {
      "cell_type": "code",
      "metadata": {
        "colab": {
          "base_uri": "https://localhost:8080/"
        },
        "id": "mWGY_lWAOhEB",
        "outputId": "6fcb86a1-b636-40be-9320-979ab2be461d"
      },
      "source": [
        "!pip install tensorflow_addons"
      ],
      "execution_count": 63,
      "outputs": [
        {
          "output_type": "stream",
          "text": [
            "Requirement already satisfied: tensorflow_addons in /usr/local/lib/python3.7/dist-packages (0.12.1)\n",
            "Requirement already satisfied: typeguard>=2.7 in /usr/local/lib/python3.7/dist-packages (from tensorflow_addons) (2.7.1)\n"
          ],
          "name": "stdout"
        }
      ]
    },
    {
      "cell_type": "markdown",
      "metadata": {
        "id": "HOoLuNLYoqVS"
      },
      "source": [
        "# Importing required Libraries"
      ]
    },
    {
      "cell_type": "code",
      "metadata": {
        "id": "FRnHs3Y8H1vl"
      },
      "source": [
        "import numpy as np\n",
        "import pandas as pd\n",
        "import matplotlib.pyplot as plt\n",
        "\n",
        "import cv2 # For image resizing.\n",
        "\n",
        "from sklearn.metrics import f1_score\n",
        "from sklearn.metrics import classification_report\n",
        "from sklearn.model_selection import train_test_split\n",
        "\n",
        "import tensorflow as tf\n",
        "from tensorflow import keras\n",
        "from keras import layers\n",
        "from tensorflow.keras.applications import   VGG19, vgg19, VGG16, vgg16, InceptionV3, inception_v3, \\\n",
        "                                            Xception, xception"
      ],
      "execution_count": 64,
      "outputs": []
    },
    {
      "cell_type": "code",
      "metadata": {
        "id": "-x9zCpfTOcy0"
      },
      "source": [
        "import os\n",
        "import numpy as np\n",
        "import pandas as pd\n",
        "import matplotlib.pyplot as plt\n",
        "from tqdm import tqdm\n",
        "\n",
        "\n",
        "#Model Development\n",
        "import tensorflow as tf\n",
        "import tensorflow_addons as tfa\n",
        "import tensorflow_hub as hub\n",
        "from tensorflow_addons.metrics import HammingLoss\n",
        "from tensorflow import keras\n",
        "from tensorflow.keras import layers\n",
        "from tensorflow.keras.losses import Loss, BinaryCrossentropy\n",
        "from keras.utils import plot_model\n",
        "import tensorflow_datasets as tfds\n",
        "from tensorflow.image import resize, ResizeMethod \n",
        "from tensorflow.data import Dataset\n",
        "from tensorflow.keras import Sequential\n",
        "from tensorflow.keras.layers import Dense, Conv2D, Dropout, Flatten, MaxPool2D, \\\n",
        "                                    BatchNormalization, GlobalAveragePooling2D, Lambda, \\\n",
        "                                    Embedding, GlobalAveragePooling1D, Concatenate, LSTM, \\\n",
        "                                    Bidirectional, Input, Reshape\n",
        "from tensorflow.keras.preprocessing.text import Tokenizer\n",
        "from tensorflow.keras.layers.experimental.preprocessing import Resizing\n",
        "from tensorflow.keras.preprocessing.sequence import pad_sequences\n",
        "from tensorflow.keras.optimizers import Adam, SGD\n",
        "from tensorflow.keras.layers.experimental.preprocessing import RandomFlip, RandomRotation, RandomTranslation\n",
        "from tensorflow.keras.applications import   VGG19, vgg19, VGG16, vgg16, InceptionV3, inception_v3, \\\n",
        "                                            Xception, xception\n",
        "from tensorflow.keras.metrics import Accuracy\n",
        "from tensorflow.keras.models import Model, load_model\n",
        "from tensorflow.python.keras.utils.layer_utils import count_params\n",
        "from tensorflow.keras.callbacks import ReduceLROnPlateau\n",
        "\n",
        "#sklearn\n",
        "from sklearn.metrics import f1_score, classification_report\n",
        "from sklearn.model_selection import train_test_split\n",
        "from sklearn.utils.class_weight import compute_sample_weight"
      ],
      "execution_count": 65,
      "outputs": []
    },
    {
      "cell_type": "markdown",
      "metadata": {
        "id": "NWSjIdPPo1gR"
      },
      "source": [
        "There are 20 labels in this problem"
      ]
    },
    {
      "cell_type": "code",
      "metadata": {
        "id": "ltVFw_OhIIeG"
      },
      "source": [
        "labels = np.array(['person', 'bird', 'cat', 'cow', 'dog', 'horse',\n",
        "              'sheep', 'aeroplane', 'bicycle', 'boat', 'bus', 'car',\n",
        "              'motorbike', 'train', 'bottle', 'chair', 'dining table',\n",
        "              'potted plant', 'sofa', 'tv/monitor'])"
      ],
      "execution_count": 66,
      "outputs": []
    },
    {
      "cell_type": "markdown",
      "metadata": {
        "id": "jlUt1vRnpCYm"
      },
      "source": [
        "Loading the images and targets"
      ]
    },
    {
      "cell_type": "code",
      "metadata": {
        "id": "vqsK8pBmjDPM"
      },
      "source": [
        "get_resized_images = True"
      ],
      "execution_count": 67,
      "outputs": []
    },
    {
      "cell_type": "code",
      "metadata": {
        "id": "n6quqveAi2jA"
      },
      "source": [
        "if get_resized_images:\n",
        "    abstract_images = np.load('abstract_images_resized.npy', allow_pickle=True)\n",
        "else:\n",
        "    abstract_images = np.load('abstract_images.npy', allow_pickle=True)\n",
        "abstract_images = abstract_images[:, :, :, :3]\n",
        "\n",
        "if get_resized_images:\n",
        "    pascal_images = np.load('pascal_images_resized.npy', allow_pickle=True)\n",
        "else:\n",
        "    pascal_images = np.load('pascal_images.npy', allow_pickle=True)\n",
        "\n",
        "abstract_targets = np.load('abstract_targets.npy', allow_pickle=True)\n",
        "pascal_targets = np.load('pascal_targets.npy', allow_pickle=True)\n",
        "\n",
        "abstract_annots = np.load('abstract_annots.npy', allow_pickle=True)\n",
        "pascal_annots = np.load('pascal_annots.npy', allow_pickle=True)\n",
        "\n",
        "abstract_annots_concat = np.load('abstract_annots_concat.npy', allow_pickle=True)\n",
        "pascal_annots_concat = np.load('pascal_annots_concat.npy', allow_pickle=True)"
      ],
      "execution_count": 68,
      "outputs": []
    },
    {
      "cell_type": "markdown",
      "metadata": {
        "id": "pMoldcivpIKW"
      },
      "source": [
        "A sample from Abstract50s dataset."
      ]
    },
    {
      "cell_type": "code",
      "metadata": {
        "colab": {
          "base_uri": "https://localhost:8080/",
          "height": 287
        },
        "id": "drlB3o6OH0nj",
        "outputId": "d3ed2eca-ffa4-488e-f080-91d4ba640a3f"
      },
      "source": [
        "index = 0\n",
        "if get_resized_images:\n",
        "  plt.imshow(abstract_images[index]/255)\n",
        "else:\n",
        "  plt.imshow(abstract_images[index])\n",
        "labels[abstract_targets[index] == 1]"
      ],
      "execution_count": 69,
      "outputs": [
        {
          "output_type": "execute_result",
          "data": {
            "text/plain": [
              "array(['person', 'cat'], dtype='<U12')"
            ]
          },
          "metadata": {
            "tags": []
          },
          "execution_count": 69
        },
        {
          "output_type": "display_data",
          "data": {
            "image/png": "[encoded data removed]",
            "text/plain": [
              "<Figure size 432x288 with 1 Axes>"
            ]
          },
          "metadata": {
            "tags": [],
            "needs_background": "light"
          }
        }
      ]
    },
    {
      "cell_type": "markdown",
      "metadata": {
        "id": "VUsEyGGbpObE"
      },
      "source": [
        "A sample from Pascal50s dataset"
      ]
    },
    {
      "cell_type": "code",
      "metadata": {
        "colab": {
          "base_uri": "https://localhost:8080/",
          "height": 287
        },
        "id": "hPPgccUpgBj2",
        "outputId": "6fc1811e-6cf1-4e63-eefe-023df61105f0"
      },
      "source": [
        "index = 11\n",
        "if get_resized_images:\n",
        "  plt.imshow(pascal_images[index]/255)\n",
        "else:\n",
        "  plt.imshow(pascal_images[index])\n",
        "labels[pascal_targets[index] == 1]"
      ],
      "execution_count": 70,
      "outputs": [
        {
          "output_type": "execute_result",
          "data": {
            "text/plain": [
              "array(['dog'], dtype='<U12')"
            ]
          },
          "metadata": {
            "tags": []
          },
          "execution_count": 70
        },
        {
          "output_type": "display_data",
          "data": {
            "image/png": "[encoded data removed]",
            "text/plain": [
              "<Figure size 432x288 with 1 Axes>"
            ]
          },
          "metadata": {
            "tags": [],
            "needs_background": "light"
          }
        }
      ]
    },
    {
      "cell_type": "markdown",
      "metadata": {
        "id": "udaJqk6JpSY-"
      },
      "source": [
        "Removing alpha channel"
      ]
    },
    {
      "cell_type": "code",
      "metadata": {
        "id": "cJMN0eKVMo_I"
      },
      "source": [
        "abstract_images = abstract_images[:, :, :, :3]"
      ],
      "execution_count": 71,
      "outputs": []
    },
    {
      "cell_type": "markdown",
      "metadata": {
        "id": "IPsn97e3paOi"
      },
      "source": [
        "Resizing"
      ]
    },
    {
      "cell_type": "code",
      "metadata": {
        "id": "aEE52LgnhLx2"
      },
      "source": [
        "def resizing(images):\n",
        "  temp = []\n",
        "  for image in images:\n",
        "    resized = cv2.resize(image, (250, 200), interpolation=cv2.INTER_AREA)\n",
        "    temp.append(resized)\n",
        "\n",
        "  images = np.array(temp)\n",
        "  return images"
      ],
      "execution_count": 72,
      "outputs": []
    },
    {
      "cell_type": "code",
      "metadata": {
        "id": "7Ms5UeRcv9ZE"
      },
      "source": [
        "if not get_resized_images:\n",
        "  abstract_images = resizing(abstract_images)\n",
        "  pascal_images = resizing(pascal_images)"
      ],
      "execution_count": 73,
      "outputs": []
    },
    {
      "cell_type": "markdown",
      "metadata": {
        "id": "ZKp48QWPpezv"
      },
      "source": [
        "Normalization. \n",
        "\n",
        "*Note: Abstract50s is normalized by default*"
      ]
    },
    {
      "cell_type": "code",
      "metadata": {
        "id": "X9kyShFTjRiD"
      },
      "source": [
        "normailize = False"
      ],
      "execution_count": 74,
      "outputs": []
    },
    {
      "cell_type": "code",
      "metadata": {
        "id": "QZXKNglhjCoE"
      },
      "source": [
        "if normailize and np.max(abstract_images) == 255:\n",
        "  abstract_images = abstract_images / 255\n",
        "\n",
        "if normailize and np.max(pascal_images) == 255:\n",
        "  pascal_images = pascal_images / 255"
      ],
      "execution_count": 75,
      "outputs": []
    },
    {
      "cell_type": "markdown",
      "metadata": {
        "id": "XoMTBwWtpuud"
      },
      "source": [
        "Combining the two datasets"
      ]
    },
    {
      "cell_type": "code",
      "metadata": {
        "id": "8HNLysjrhnF1"
      },
      "source": [
        "images = np.concatenate((pascal_images, abstract_images), axis=0)"
      ],
      "execution_count": 76,
      "outputs": []
    },
    {
      "cell_type": "code",
      "metadata": {
        "id": "GQBxiZFviGsm"
      },
      "source": [
        "targets = np.concatenate((pascal_targets, abstract_targets), axis=0)"
      ],
      "execution_count": 77,
      "outputs": []
    },
    {
      "cell_type": "markdown",
      "metadata": {
        "id": "9Jxl71Uspxth"
      },
      "source": [
        "Since our data is extremely imbalanced so we will keep track of the class weights to train the model better."
      ]
    },
    {
      "cell_type": "code",
      "metadata": {
        "id": "lwd7gnrSdGp-"
      },
      "source": [
        "class_weights = np.sum(targets, axis=0)\n",
        "class_weights = dict(zip(range(20), class_weights))"
      ],
      "execution_count": 78,
      "outputs": []
    },
    {
      "cell_type": "markdown",
      "metadata": {
        "id": "Xjqd0_-BqYvG"
      },
      "source": [
        "We split or dataset into train and test\n",
        "\n",
        "*Note: the dataset is also shuffled in this process*"
      ]
    },
    {
      "cell_type": "code",
      "metadata": {
        "id": "DpaVhIDjxO2D"
      },
      "source": [
        "X_train, X_test, y_train, y_test = train_test_split(images, targets, test_size=0.2, shuffle=True, random_state=42)"
      ],
      "execution_count": 79,
      "outputs": []
    },
    {
      "cell_type": "markdown",
      "metadata": {
        "id": "x5dW7nhLqihS"
      },
      "source": [
        "# Model"
      ]
    },
    {
      "cell_type": "code",
      "metadata": {
        "id": "otzLTjZc7feY"
      },
      "source": [
        "@tf.function\n",
        "def macro_soft_f1(y, y_hat):\n",
        "    \"\"\"Compute the macro soft F1-score as a cost (average 1 - soft-F1 across all labels).\n",
        "    Use probability values instead of binary predictions.\n",
        "    \n",
        "    Args:\n",
        "        y (int32 Tensor): targets array of shape (BATCH_SIZE, N_LABELS)\n",
        "        y_hat (float32 Tensor): probability matrix from forward propagation of shape (BATCH_SIZE, N_LABELS)\n",
        "        \n",
        "    Returns:\n",
        "        cost (scalar Tensor): value of the cost function for the batch\n",
        "    \"\"\"\n",
        "    y = tf.cast(y, tf.float32)\n",
        "    y_hat = tf.cast(y_hat, tf.float32)\n",
        "    tp = tf.reduce_sum(y_hat * y, axis=0)\n",
        "    fp = tf.reduce_sum(y_hat * (1 - y), axis=0)\n",
        "    fn = tf.reduce_sum((1 - y_hat) * y, axis=0)\n",
        "    soft_f1 = 2*tp / (2*tp + fn + fp + 1e-16)\n",
        "    cost = 1 - soft_f1\n",
        "    macro_cost = tf.reduce_mean(cost)\n",
        "    return macro_cost\n",
        "\n",
        "@tf.function\n",
        "def macro_f1(y, y_hat, thresh=0.5):\n",
        "    \"\"\"Compute the macro F1-score on a batch of observations (average F1 across labels)\n",
        "    \n",
        "    Args:\n",
        "        y (int32 Tensor): labels array of shape (BATCH_SIZE, N_LABELS)\n",
        "        y_hat (float32 Tensor): probability matrix from forward propagation of shape (BATCH_SIZE, N_LABELS)\n",
        "        thresh: probability value above which we predict positive\n",
        "        \n",
        "    Returns:\n",
        "        macro_f1 (scalar Tensor): value of macro F1 for the batch\n",
        "    \"\"\"\n",
        "    y_pred = tf.cast(tf.greater(y_hat, thresh), tf.float32)\n",
        "    tp = tf.cast(tf.math.count_nonzero(y_pred * y, axis=0), tf.float32)\n",
        "    fp = tf.cast(tf.math.count_nonzero(y_pred * (1 - y), axis=0), tf.float32)\n",
        "    fn = tf.cast(tf.math.count_nonzero((1 - y_pred) * y, axis=0), tf.float32)\n",
        "    f1 = 2*tp / (2*tp + fn + fp + 1e-16)\n",
        "    macro_f1 = tf.reduce_mean(f1)\n",
        "    return macro_f1"
      ],
      "execution_count": 80,
      "outputs": []
    },
    {
      "cell_type": "code",
      "metadata": {
        "id": "r1Y2uliDQnRf"
      },
      "source": [
        "def get_model():\n",
        "  model = keras.models.Sequential()\n",
        "  model.add(layers.Conv2D(input_shape=(images.shape[1],images.shape[2],3),filters=128,kernel_size=(3,3),padding=\"same\", activation=\"relu\"))\n",
        "  model.add(layers.BatchNormalization())\n",
        "\n",
        "  model.add(layers.Conv2D(filters=128, kernel_size=(2,2), padding=\"same\", activation=\"relu\"))\n",
        "  model.add(layers.BatchNormalization())\n",
        "\n",
        "  model.add(layers.MaxPool2D(pool_size=(2,2),strides=(2,2)))\n",
        "\n",
        "  model.add(layers.Conv2D(filters=64, kernel_size=(2,2), padding=\"same\", activation=\"relu\"))\n",
        "  model.add(layers.BatchNormalization())\n",
        "\n",
        "  model.add(layers.Conv2D(filters=64, kernel_size=(2,2), padding=\"same\", activation=\"relu\"))\n",
        "  model.add(layers.BatchNormalization())\n",
        "\n",
        "  model.add(layers.MaxPool2D(pool_size=(2,2),strides=(2,2), name='MP_2'))\n",
        "\n",
        "  model.add(layers.Conv2D(filters=32, kernel_size=(2,2), padding=\"same\", activation=\"relu\"))\n",
        "  model.add(layers.BatchNormalization())\n",
        "\n",
        "  model.add(layers.Conv2D(filters=32, kernel_size=(2,2), padding=\"same\", activation=\"relu\", name='last_conv'))\n",
        "  model.add(layers.BatchNormalization())\n",
        "  headModel = model.output\n",
        "  headModel = layers.Flatten()(headModel)\n",
        "  headModel = layers.Dropout(rate=0.1)(headModel)\n",
        "\n",
        "  headModel = layers.Dense(64, activation='relu')(headModel)\n",
        "  headModel = layers.Dense(64, activation='relu')(headModel)\n",
        "  headModel = layers.Dense(len(labels), activation='sigmoid')(headModel)\n",
        "  model = keras.models.Model(inputs=model.input, outputs=headModel)\n",
        "  # model.compile(optimizer='adam', loss='binary_crossentropy', metrics=['accuracy'])\n",
        "  model.compile(optimizer='adam', loss=macro_soft_f1, metrics=[macro_f1])\n",
        "  return model"
      ],
      "execution_count": 81,
      "outputs": []
    },
    {
      "cell_type": "code",
      "metadata": {
        "id": "YjO6fYBQLvMO"
      },
      "source": [
        "def get_cnn_model(pre_trained, input_preprocessor=None, shape=(224, 224, 3), allow_train_from=None):\n",
        "    inputs = Input(shape=shape)\n",
        "    if input_preprocessor is not None:\n",
        "        x = input_preprocessor(inputs)\n",
        "        x = pre_trained(x)\n",
        "    else:\n",
        "        x = pre_trained(inputs)\n",
        "    if allow_train_from is not None:\n",
        "        layer_names = [layer.name for layer in pre_trained.layers]\n",
        "        idx = layer_names.index(allow_train_from)\n",
        "        for layer in pre_trained.layers[idx:]:\n",
        "            layer.trainable = True\n",
        "    return Model(inputs=inputs, outputs=x)"
      ],
      "execution_count": 82,
      "outputs": []
    },
    {
      "cell_type": "code",
      "metadata": {
        "id": "ghrL6HF7-wDq"
      },
      "source": [
        "def get_pretrain(name='vgg16', train=False):\n",
        "  if name == 'inception':\n",
        "    base_model = InceptionV3(include_top = False, input_shape=(images.shape[1],images.shape[2], 3), weights = 'imagenet', pooling='avg')\n",
        "    input_preprocessor = inception_v3.preprocess_input\n",
        "  else:\n",
        "    base_model = VGG16(input_shape=(images.shape[1],images.shape[2], 3), include_top = False, weights = 'imagenet')\n",
        "    input_preprocessor = vgg16.preprocess_input\n",
        "  if not train:\n",
        "    base_model.trainable = False\n",
        "  cnn = get_cnn_model(base_model, input_preprocessor)\n",
        "  x = layers.Flatten()(cnn.output)\n",
        "  x = layers.Dense(512, activation='relu')(x)\n",
        "  x = layers.Dense(512, activation='relu')(x)\n",
        "  x = layers.Dropout(0.2)(x)\n",
        "  x = layers.Dense(len(labels), activation='sigmoid')(x)\n",
        "\n",
        "  model = keras.models.Model(cnn.input, x)\n",
        "\n",
        "  # model.compile(optimizer='adam', loss = 'binary_crossentropy',metrics = ['acc'])\n",
        "  model.compile(optimizer='adam', loss=macro_soft_f1, metrics=[macro_f1])\n",
        "  return model\n"
      ],
      "execution_count": 83,
      "outputs": []
    },
    {
      "cell_type": "code",
      "metadata": {
        "id": "k2Agst0_MiOX"
      },
      "source": [
        "# model = get_model()\n",
        "model = get_pretrain('inception')"
      ],
      "execution_count": 84,
      "outputs": []
    },
    {
      "cell_type": "code",
      "metadata": {
        "colab": {
          "base_uri": "https://localhost:8080/"
        },
        "id": "vL3FKfv1CjNq",
        "outputId": "424aca8e-8677-472b-cf90-d1399eb84b3e"
      },
      "source": [
        "model.summary()"
      ],
      "execution_count": 85,
      "outputs": [
        {
          "output_type": "stream",
          "text": [
            "Model: \"model_8\"\n",
            "_________________________________________________________________\n",
            "Layer (type)                 Output Shape              Param #   \n",
            "=================================================================\n",
            "input_12 (InputLayer)        [(None, 224, 224, 3)]     0         \n",
            "_________________________________________________________________\n",
            "tf.math.truediv_1 (TFOpLambd (None, 224, 224, 3)       0         \n",
            "_________________________________________________________________\n",
            "tf.math.subtract_1 (TFOpLamb (None, 224, 224, 3)       0         \n",
            "_________________________________________________________________\n",
            "inception_v3 (Functional)    (None, 2048)              21802784  \n",
            "_________________________________________________________________\n",
            "flatten_4 (Flatten)          (None, 2048)              0         \n",
            "_________________________________________________________________\n",
            "dense_9 (Dense)              (None, 512)               1049088   \n",
            "_________________________________________________________________\n",
            "dense_10 (Dense)             (None, 512)               262656    \n",
            "_________________________________________________________________\n",
            "dropout_3 (Dropout)          (None, 512)               0         \n",
            "_________________________________________________________________\n",
            "dense_11 (Dense)             (None, 20)                10260     \n",
            "=================================================================\n",
            "Total params: 23,124,788\n",
            "Trainable params: 1,322,004\n",
            "Non-trainable params: 21,802,784\n",
            "_________________________________________________________________\n"
          ],
          "name": "stdout"
        }
      ]
    },
    {
      "cell_type": "markdown",
      "metadata": {
        "id": "JAj_I4rbqliW"
      },
      "source": [
        "We will use the follow two callbacks\n",
        "- Early Stopping - To prevent overfitting\n",
        "- Model Checkpoint - To save our model's training progress."
      ]
    },
    {
      "cell_type": "code",
      "metadata": {
        "id": "6lntpKLeSFuv"
      },
      "source": [
        "es = keras.callbacks.EarlyStopping(patience=10, restore_best_weights=True)\n",
        "cp = keras.callbacks.ModelCheckpoint('model1.h5', save_best_only=True)\n",
        "tb = keras.callbacks.TensorBoard(log_dir='logs', histogram_freq=1, write_graph=True, update_freq='epoch', \n",
        "                                 profile_batch=2, embeddings_freq=1)"
      ],
      "execution_count": 86,
      "outputs": []
    },
    {
      "cell_type": "markdown",
      "metadata": {
        "id": "lGf1dJUSq0tG"
      },
      "source": [
        "### The training begins !\n",
        "\n",
        "Note: the class_weights arugment is passed to acknowlegde the imbalanced dataset"
      ]
    },
    {
      "cell_type": "code",
      "metadata": {
        "colab": {
          "base_uri": "https://localhost:8080/"
        },
        "id": "FsBVgbf9M4W1",
        "outputId": "70c8d1ba-a432-4132-aa5a-ceebfeb800ff"
      },
      "source": [
        "model.fit(X_train, y_train, epochs=50, validation_data=(X_test, y_test), batch_size=32, callbacks=[es, cp, tb])"
      ],
      "execution_count": 87,
      "outputs": [
        {
          "output_type": "stream",
          "text": [
            "Epoch 1/50\n",
            "38/38 [==============================] - 15s 276ms/step - loss: 0.7840 - macro_f1: 0.2249 - val_loss: 0.6504 - val_macro_f1: 0.3522\n",
            "Epoch 2/50\n",
            "38/38 [==============================] - 8s 201ms/step - loss: 0.6098 - macro_f1: 0.4025 - val_loss: 0.6004 - val_macro_f1: 0.3884\n",
            "Epoch 3/50\n",
            "38/38 [==============================] - 7s 198ms/step - loss: 0.5279 - macro_f1: 0.4841 - val_loss: 0.5820 - val_macro_f1: 0.4041\n",
            "Epoch 4/50\n",
            "38/38 [==============================] - 7s 199ms/step - loss: 0.4995 - macro_f1: 0.5060 - val_loss: 0.5902 - val_macro_f1: 0.4010\n",
            "Epoch 5/50\n",
            "38/38 [==============================] - 7s 197ms/step - loss: 0.4973 - macro_f1: 0.5038 - val_loss: 0.5838 - val_macro_f1: 0.4027\n",
            "Epoch 6/50\n",
            "38/38 [==============================] - 8s 199ms/step - loss: 0.4532 - macro_f1: 0.5526 - val_loss: 0.5512 - val_macro_f1: 0.4373\n",
            "Epoch 7/50\n",
            "38/38 [==============================] - 8s 201ms/step - loss: 0.4306 - macro_f1: 0.5735 - val_loss: 0.5617 - val_macro_f1: 0.4266\n",
            "Epoch 8/50\n",
            "38/38 [==============================] - 7s 198ms/step - loss: 0.4474 - macro_f1: 0.5596 - val_loss: 0.5734 - val_macro_f1: 0.4161\n",
            "Epoch 9/50\n",
            "38/38 [==============================] - 7s 198ms/step - loss: 0.4525 - macro_f1: 0.5502 - val_loss: 0.5425 - val_macro_f1: 0.4503\n",
            "Epoch 10/50\n",
            "38/38 [==============================] - 8s 201ms/step - loss: 0.4218 - macro_f1: 0.5826 - val_loss: 0.5518 - val_macro_f1: 0.4356\n",
            "Epoch 11/50\n",
            "38/38 [==============================] - 7s 198ms/step - loss: 0.3970 - macro_f1: 0.6051 - val_loss: 0.5600 - val_macro_f1: 0.4356\n",
            "Epoch 12/50\n",
            "38/38 [==============================] - 7s 198ms/step - loss: 0.4191 - macro_f1: 0.5850 - val_loss: 0.5597 - val_macro_f1: 0.4284\n",
            "Epoch 13/50\n",
            "38/38 [==============================] - 8s 200ms/step - loss: 0.3728 - macro_f1: 0.6334 - val_loss: 0.5594 - val_macro_f1: 0.4267\n",
            "Epoch 14/50\n",
            "38/38 [==============================] - 8s 199ms/step - loss: 0.3983 - macro_f1: 0.6051 - val_loss: 0.5720 - val_macro_f1: 0.4136\n",
            "Epoch 15/50\n",
            "38/38 [==============================] - 8s 203ms/step - loss: 0.3767 - macro_f1: 0.6237 - val_loss: 0.5699 - val_macro_f1: 0.4149\n",
            "Epoch 16/50\n",
            "38/38 [==============================] - 7s 197ms/step - loss: 0.3736 - macro_f1: 0.6297 - val_loss: 0.5469 - val_macro_f1: 0.4454\n",
            "Epoch 17/50\n",
            "38/38 [==============================] - 8s 199ms/step - loss: 0.3756 - macro_f1: 0.6286 - val_loss: 0.5616 - val_macro_f1: 0.4247\n",
            "Epoch 18/50\n",
            "38/38 [==============================] - 8s 199ms/step - loss: 0.3719 - macro_f1: 0.6311 - val_loss: 0.5563 - val_macro_f1: 0.4296\n",
            "Epoch 19/50\n",
            "38/38 [==============================] - 8s 199ms/step - loss: 0.3592 - macro_f1: 0.6466 - val_loss: 0.5483 - val_macro_f1: 0.4361\n"
          ],
          "name": "stdout"
        },
        {
          "output_type": "execute_result",
          "data": {
            "text/plain": [
              "<tensorflow.python.keras.callbacks.History at 0x7f31a73e1f10>"
            ]
          },
          "metadata": {
            "tags": []
          },
          "execution_count": 87
        }
      ]
    },
    {
      "cell_type": "markdown",
      "metadata": {
        "id": "r_MVvKSZrER8"
      },
      "source": [
        "# Evaluation"
      ]
    },
    {
      "cell_type": "code",
      "metadata": {
        "id": "6aeR6U3ux9Xa",
        "colab": {
          "base_uri": "https://localhost:8080/"
        },
        "outputId": "bcd2b255-d033-46b5-dac5-dba3f431ac16"
      },
      "source": [
        "model.evaluate(X_test, y_test)"
      ],
      "execution_count": 88,
      "outputs": [
        {
          "output_type": "stream",
          "text": [
            "10/10 [==============================] - 2s 158ms/step - loss: 0.5425 - macro_f1: 0.4503\n"
          ],
          "name": "stdout"
        },
        {
          "output_type": "execute_result",
          "data": {
            "text/plain": [
              "[0.5425300598144531, 0.45029115676879883]"
            ]
          },
          "metadata": {
            "tags": []
          },
          "execution_count": 88
        }
      ]
    },
    {
      "cell_type": "code",
      "metadata": {
        "id": "Qn3gpSl0yClQ"
      },
      "source": [
        "preds = (model.predict(images) > 0.5) * 1"
      ],
      "execution_count": 89,
      "outputs": []
    },
    {
      "cell_type": "markdown",
      "metadata": {
        "id": "TgvZHKjmrGlh"
      },
      "source": [
        "## F1 score\n",
        "\n",
        "This is a better metrics of measurement as the dataset is imbalanced"
      ]
    },
    {
      "cell_type": "code",
      "metadata": {
        "id": "30QX1odm94FB",
        "colab": {
          "base_uri": "https://localhost:8080/"
        },
        "outputId": "5492838b-e5ef-4a95-87a6-26c98ae663a3"
      },
      "source": [
        "print(classification_report(preds, targets))"
      ],
      "execution_count": 90,
      "outputs": [
        {
          "output_type": "stream",
          "text": [
            "              precision    recall  f1-score   support\n",
            "\n",
            "           0       1.00      0.73      0.84      1500\n",
            "           1       0.48      0.91      0.63        56\n",
            "           2       0.37      0.98      0.54        49\n",
            "           3       0.83      0.86      0.84        57\n",
            "           4       0.70      0.35      0.47       410\n",
            "           5       0.80      0.96      0.87        50\n",
            "           6       0.72      0.93      0.81        44\n",
            "           7       0.70      0.91      0.79        86\n",
            "           8       0.92      0.71      0.80        80\n",
            "           9       0.91      0.98      0.95        54\n",
            "          10       0.90      0.81      0.86        70\n",
            "          11       0.53      0.76      0.62        93\n",
            "          12       0.92      0.93      0.93       106\n",
            "          13       0.85      0.85      0.85        65\n",
            "          14       0.51      0.50      0.51        70\n",
            "          15       0.63      0.75      0.68       106\n",
            "          16       0.65      0.51      0.57       307\n",
            "          17       0.84      0.19      0.31       277\n",
            "          18       0.86      0.63      0.73       102\n",
            "          19       0.88      0.51      0.65       113\n",
            "\n",
            "   micro avg       0.81      0.65      0.72      3695\n",
            "   macro avg       0.75      0.74      0.71      3695\n",
            "weighted avg       0.84      0.65      0.71      3695\n",
            " samples avg       0.84      0.68      0.71      3695\n",
            "\n"
          ],
          "name": "stdout"
        },
        {
          "output_type": "stream",
          "text": [
            "/usr/local/lib/python3.7/dist-packages/sklearn/metrics/_classification.py:1272: UndefinedMetricWarning: Precision and F-score are ill-defined and being set to 0.0 in samples with no predicted labels. Use `zero_division` parameter to control this behavior.\n",
            "  _warn_prf(average, modifier, msg_start, len(result))\n"
          ],
          "name": "stderr"
        }
      ]
    },
    {
      "cell_type": "code",
      "metadata": {
        "colab": {
          "base_uri": "https://localhost:8080/"
        },
        "id": "juw9uyOnRDnG",
        "outputId": "81469513-ce50-4b88-90c2-93ed25fa5fa7"
      },
      "source": [
        "np.sum(preds, axis=0)"
      ],
      "execution_count": 91,
      "outputs": [
        {
          "output_type": "execute_result",
          "data": {
            "text/plain": [
              "array([1500,   56,   49,   57,  410,   50,   44,   86,   80,   54,   70,\n",
              "         93,  106,   65,   70,  106,  307,  277,  102,  113])"
            ]
          },
          "metadata": {
            "tags": []
          },
          "execution_count": 91
        }
      ]
    },
    {
      "cell_type": "code",
      "metadata": {
        "id": "-bImcbGebDZK"
      },
      "source": [
        "%load_ext tensorboard"
      ],
      "execution_count": 92,
      "outputs": []
    },
    {
      "cell_type": "code",
      "metadata": {
        "colab": {
          "base_uri": "https://localhost:8080/"
        },
        "id": "4Y7Ua73cRKVy",
        "outputId": "b8f64f0e-fe72-4603-ab6d-f67abaa92486"
      },
      "source": [
        "!tensorboard — logdir /content/drive/MyDrive/dataset/Pascal_VOC/cache/logs"
      ],
      "execution_count": 96,
      "outputs": [
        {
          "output_type": "stream",
          "text": [
            "2021-05-11 13:00:48.857560: I tensorflow/stream_executor/platform/default/dso_loader.cc:49] Successfully opened dynamic library libcudart.so.11.0\n",
            "usage: tensorboard [-h] [--helpfull] {serve,dev} ...\n",
            "tensorboard: error: invalid choice: '—' (choose from 'serve', 'dev')\n"
          ],
          "name": "stdout"
        }
      ]
    }
  ]
}