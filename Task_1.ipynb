{
  "nbformat": 4,
  "nbformat_minor": 0,
  "metadata": {
    "colab": {
      "name": "Task_1.ipynb",
      "provenance": [],
      "collapsed_sections": []
    },
    "kernelspec": {
      "name": "python3",
      "display_name": "Python 3"
    },
    "language_info": {
      "name": "python"
    },
    "accelerator": "GPU"
  },
  "cells": [
    {
      "cell_type": "markdown",
      "metadata": {
        "id": "vnA9dXOiohE9"
      },
      "source": [
        "# Importing processed data from Google Drive"
      ]
    },
    {
      "cell_type": "code",
      "metadata": {
        "colab": {
          "base_uri": "https://localhost:8080/"
        },
        "id": "hWGzqSHVSQtz",
        "outputId": "fc83da47-2992-4c56-8839-f385add4b915"
      },
      "source": [
        "from google.colab import drive\n",
        "drive.mount('/content/drive')"
      ],
      "execution_count": 1,
      "outputs": [
        {
          "output_type": "stream",
          "text": [
            "Mounted at /content/drive\n"
          ],
          "name": "stdout"
        }
      ]
    },
    {
      "cell_type": "code",
      "metadata": {
        "colab": {
          "base_uri": "https://localhost:8080/"
        },
        "id": "HTNNAYo8VN71",
        "outputId": "6b75ad4c-8680-4cb0-ae4f-b622afa446f7"
      },
      "source": [
        "%cd /content/drive/MyDrive/dataset/Pascal_VOC/cache/"
      ],
      "execution_count": 2,
      "outputs": [
        {
          "output_type": "stream",
          "text": [
            "/content/drive/MyDrive/dataset/Pascal_VOC/cache\n"
          ],
          "name": "stdout"
        }
      ]
    },
    {
      "cell_type": "markdown",
      "metadata": {
        "id": "HOoLuNLYoqVS"
      },
      "source": [
        "# Importing required Libraries"
      ]
    },
    {
      "cell_type": "code",
      "metadata": {
        "id": "FRnHs3Y8H1vl"
      },
      "source": [
        "import numpy as np\n",
        "import pandas as pd\n",
        "import matplotlib.pyplot as plt\n",
        "\n",
        "import cv2 # For image resizing.\n",
        "\n",
        "from sklearn.metrics import f1_score\n",
        "from sklearn.metrics import classification_report\n",
        "from sklearn.model_selection import train_test_split\n",
        "\n",
        "from tensorflow import keras\n",
        "from keras import layers\n",
        "from tensorflow.keras.applications.vgg16 import VGG16"
      ],
      "execution_count": 3,
      "outputs": []
    },
    {
      "cell_type": "markdown",
      "metadata": {
        "id": "NWSjIdPPo1gR"
      },
      "source": [
        "There are 20 labels in this problem"
      ]
    },
    {
      "cell_type": "code",
      "metadata": {
        "id": "ltVFw_OhIIeG"
      },
      "source": [
        "labels = np.array(['person', 'bird', 'cat', 'cow', 'dog', 'horse',\n",
        "              'sheep', 'aeroplane', 'bicycle', 'boat', 'bus', 'car',\n",
        "              'motorbike', 'train', 'bottle', 'chair', 'dining table',\n",
        "              'potted plant', 'sofa', 'tv/monitor'])"
      ],
      "execution_count": 4,
      "outputs": []
    },
    {
      "cell_type": "markdown",
      "metadata": {
        "id": "jlUt1vRnpCYm"
      },
      "source": [
        "Loading the images"
      ]
    },
    {
      "cell_type": "code",
      "metadata": {
        "id": "DQm7sIRxHq7_"
      },
      "source": [
        "abstract_images = np.load('abstract_images.npy')\n",
        "abstract_targets = np.load('abstract_targets.npy')\n",
        "\n",
        "pascal_images = np.load('pascal_images.npy', allow_pickle=True)\n",
        "pascal_targets = np.load('pascal_targets.npy')"
      ],
      "execution_count": 5,
      "outputs": []
    },
    {
      "cell_type": "markdown",
      "metadata": {
        "id": "pMoldcivpIKW"
      },
      "source": [
        "A sample from Abstract50s dataset."
      ]
    },
    {
      "cell_type": "code",
      "metadata": {
        "colab": {
          "base_uri": "https://localhost:8080/",
          "height": 287
        },
        "id": "drlB3o6OH0nj",
        "outputId": "af2ac835-7999-4d9f-e2d9-8626e715a9cb"
      },
      "source": [
        "index = 0\n",
        "plt.imshow(abstract_images[index])\n",
        "labels[abstract_targets[index] == 1]"
      ],
      "execution_count": 6,
      "outputs": [
        {
          "output_type": "execute_result",
          "data": {
            "text/plain": [
              "array(['person', 'cat'], dtype='<U12')"
            ]
          },
          "metadata": {
            "tags": []
          },
          "execution_count": 6
        },
        {
          "output_type": "display_data",
          "data": {
            "image/png": "[encoded data removed]",
            "text/plain": [
              "<Figure size 432x288 with 1 Axes>"
            ]
          },
          "metadata": {
            "tags": [],
            "needs_background": "light"
          }
        }
      ]
    },
    {
      "cell_type": "markdown",
      "metadata": {
        "id": "VUsEyGGbpObE"
      },
      "source": [
        "A sample from Pascal50s dataset"
      ]
    },
    {
      "cell_type": "code",
      "metadata": {
        "colab": {
          "base_uri": "https://localhost:8080/",
          "height": 287
        },
        "id": "hPPgccUpgBj2",
        "outputId": "a120573a-b283-49d2-d86b-7e90ea9f1280"
      },
      "source": [
        "index = 11\n",
        "plt.imshow(pascal_images[index])\n",
        "labels[pascal_targets[index] == 1]"
      ],
      "execution_count": 7,
      "outputs": [
        {
          "output_type": "execute_result",
          "data": {
            "text/plain": [
              "array(['dog'], dtype='<U12')"
            ]
          },
          "metadata": {
            "tags": []
          },
          "execution_count": 7
        },
        {
          "output_type": "display_data",
          "data": {
            "image/png": "[encoded data removed]",
            "text/plain": [
              "<Figure size 432x288 with 1 Axes>"
            ]
          },
          "metadata": {
            "tags": [],
            "needs_background": "light"
          }
        }
      ]
    },
    {
      "cell_type": "markdown",
      "metadata": {
        "id": "udaJqk6JpSY-"
      },
      "source": [
        "Removing alpha channel"
      ]
    },
    {
      "cell_type": "code",
      "metadata": {
        "id": "cJMN0eKVMo_I"
      },
      "source": [
        "abstract_images = abstract_images[:, :, :, :3]"
      ],
      "execution_count": 8,
      "outputs": []
    },
    {
      "cell_type": "markdown",
      "metadata": {
        "id": "IPsn97e3paOi"
      },
      "source": [
        "Resizing"
      ]
    },
    {
      "cell_type": "code",
      "metadata": {
        "id": "aEE52LgnhLx2"
      },
      "source": [
        "def resizing(images):\n",
        "  temp = []\n",
        "  for image in images:\n",
        "    resized = cv2.resize(image, (250, 200), interpolation=cv2.INTER_AREA)\n",
        "    temp.append(resized)\n",
        "\n",
        "  images = np.array(temp)\n",
        "  return images"
      ],
      "execution_count": 9,
      "outputs": []
    },
    {
      "cell_type": "code",
      "metadata": {
        "id": "7Ms5UeRcv9ZE"
      },
      "source": [
        "abstract_images = resizing(abstract_images)"
      ],
      "execution_count": 10,
      "outputs": []
    },
    {
      "cell_type": "code",
      "metadata": {
        "id": "moGQj9iUwLmM"
      },
      "source": [
        "pascal_images = resizing(pascal_images)"
      ],
      "execution_count": 11,
      "outputs": []
    },
    {
      "cell_type": "markdown",
      "metadata": {
        "id": "ZKp48QWPpezv"
      },
      "source": [
        "Normalization. \n",
        "\n",
        "*Note: Abstract50s is normalized by default*"
      ]
    },
    {
      "cell_type": "code",
      "metadata": {
        "id": "QZXKNglhjCoE"
      },
      "source": [
        "pascal_images = pascal_images / 255"
      ],
      "execution_count": 12,
      "outputs": []
    },
    {
      "cell_type": "markdown",
      "metadata": {
        "id": "XoMTBwWtpuud"
      },
      "source": [
        "Combining the two datasets"
      ]
    },
    {
      "cell_type": "code",
      "metadata": {
        "id": "8HNLysjrhnF1"
      },
      "source": [
        "images = np.concatenate((pascal_images, abstract_images), axis=0)"
      ],
      "execution_count": 13,
      "outputs": []
    },
    {
      "cell_type": "code",
      "metadata": {
        "id": "GQBxiZFviGsm"
      },
      "source": [
        "targets = np.concatenate((pascal_targets, abstract_targets), axis=0)"
      ],
      "execution_count": 14,
      "outputs": []
    },
    {
      "cell_type": "markdown",
      "metadata": {
        "id": "9Jxl71Uspxth"
      },
      "source": [
        "Since our data is extremely imbalanced so we will keep track of the class weights to train the model better."
      ]
    },
    {
      "cell_type": "code",
      "metadata": {
        "id": "lwd7gnrSdGp-"
      },
      "source": [
        "class_weights = np.sum(targets, axis=0)\n",
        "class_weights = dict(zip(range(20), class_weights))"
      ],
      "execution_count": 15,
      "outputs": []
    },
    {
      "cell_type": "markdown",
      "metadata": {
        "id": "Xjqd0_-BqYvG"
      },
      "source": [
        "We split or dataset into train and test\n",
        "\n",
        "*Note: the dataset is also shuffled in this process*"
      ]
    },
    {
      "cell_type": "code",
      "metadata": {
        "id": "DpaVhIDjxO2D"
      },
      "source": [
        "X_train, X_test, y_train, y_test = train_test_split(images, targets, test_size=0.15)"
      ],
      "execution_count": 17,
      "outputs": []
    },
    {
      "cell_type": "markdown",
      "metadata": {
        "id": "x5dW7nhLqihS"
      },
      "source": [
        "# Model"
      ]
    },
    {
      "cell_type": "code",
      "metadata": {
        "id": "r1Y2uliDQnRf"
      },
      "source": [
        "def get_model():\n",
        "  model = keras.models.Sequential()\n",
        "  model.add(layers.Conv2D(input_shape=(images.shape[1],images.shape[2],3),filters=128,kernel_size=(3,3),padding=\"same\", activation=\"relu\"))\n",
        "  model.add(layers.BatchNormalization())\n",
        "\n",
        "  model.add(layers.Conv2D(filters=128, kernel_size=(2,2), padding=\"same\", activation=\"relu\"))\n",
        "  model.add(layers.BatchNormalization())\n",
        "\n",
        "  model.add(layers.MaxPool2D(pool_size=(2,2),strides=(2,2)))\n",
        "\n",
        "  model.add(layers.Conv2D(filters=64, kernel_size=(2,2), padding=\"same\", activation=\"relu\"))\n",
        "  model.add(layers.BatchNormalization())\n",
        "\n",
        "  model.add(layers.Conv2D(filters=64, kernel_size=(2,2), padding=\"same\", activation=\"relu\"))\n",
        "  model.add(layers.BatchNormalization())\n",
        "\n",
        "  model.add(layers.MaxPool2D(pool_size=(2,2),strides=(2,2), name='MP_2'))\n",
        "\n",
        "  model.add(layers.Conv2D(filters=32, kernel_size=(2,2), padding=\"same\", activation=\"relu\"))\n",
        "  model.add(layers.BatchNormalization())\n",
        "\n",
        "  model.add(layers.Conv2D(filters=32, kernel_size=(2,2), padding=\"same\", activation=\"relu\", name='last_conv'))\n",
        "  model.add(layers.BatchNormalization())\n",
        "  headModel = model.output\n",
        "  headModel = layers.Flatten()(headModel)\n",
        "  headModel = layers.Dropout(rate=0.1)(headModel)\n",
        "\n",
        "  headModel = layers.Dense(64, activation='relu')(headModel)\n",
        "  headModel = layers.Dense(64, activation='relu')(headModel)\n",
        "  headModel = layers.Dense(len(labels), activation='sigmoid')(headModel)\n",
        "  model = keras.models.Model(inputs=model.input, outputs=headModel)\n",
        "  model.compile(optimizer='adam', loss='binary_crossentropy', metrics=['accuracy'])\n",
        "  return model"
      ],
      "execution_count": 18,
      "outputs": []
    },
    {
      "cell_type": "code",
      "metadata": {
        "id": "ghrL6HF7-wDq"
      },
      "source": [
        "def get_vgg():\n",
        "  base_model = VGG16(input_shape = (images.shape[1],images.shape[2], 3), include_top = False, weights = 'imagenet')\n",
        "  for layer in base_model.layers:\n",
        "    layer.trainable = False\n",
        "  x = layers.Flatten()(base_model.output)\n",
        "  x = layers.Dense(512, activation='relu')(x)\n",
        "  x = layers.Dense(512, activation='relu')(x)\n",
        "  x = layers.Dropout(0.2)(x)\n",
        "  x = layers.Dense(len(labels), activation='sigmoid')(x)\n",
        "\n",
        "  model = keras.models.Model(base_model.input, x)\n",
        "\n",
        "  model.compile(optimizer='adam', loss = 'binary_crossentropy',metrics = ['acc'])\n",
        "  return model"
      ],
      "execution_count": 19,
      "outputs": []
    },
    {
      "cell_type": "code",
      "metadata": {
        "id": "k2Agst0_MiOX",
        "colab": {
          "base_uri": "https://localhost:8080/"
        },
        "outputId": "25b5a5df-8ee9-4724-9728-18a1b75fc4b9"
      },
      "source": [
        "# model = get_model()\n",
        "model = get_vgg()"
      ],
      "execution_count": 20,
      "outputs": [
        {
          "output_type": "stream",
          "text": [
            "Downloading data from https://storage.googleapis.com/tensorflow/keras-applications/vgg16/vgg16_weights_tf_dim_ordering_tf_kernels_notop.h5\n",
            "58892288/58889256 [==============================] - 0s 0us/step\n"
          ],
          "name": "stdout"
        }
      ]
    },
    {
      "cell_type": "code",
      "metadata": {
        "colab": {
          "base_uri": "https://localhost:8080/"
        },
        "id": "vL3FKfv1CjNq",
        "outputId": "fe50170c-78a2-4724-b8f3-5313734895f7"
      },
      "source": [
        "model.summary()"
      ],
      "execution_count": 21,
      "outputs": [
        {
          "output_type": "stream",
          "text": [
            "Model: \"model\"\n",
            "_________________________________________________________________\n",
            "Layer (type)                 Output Shape              Param #   \n",
            "=================================================================\n",
            "input_1 (InputLayer)         [(None, 200, 250, 3)]     0         \n",
            "_________________________________________________________________\n",
            "block1_conv1 (Conv2D)        (None, 200, 250, 64)      1792      \n",
            "_________________________________________________________________\n",
            "block1_conv2 (Conv2D)        (None, 200, 250, 64)      36928     \n",
            "_________________________________________________________________\n",
            "block1_pool (MaxPooling2D)   (None, 100, 125, 64)      0         \n",
            "_________________________________________________________________\n",
            "block2_conv1 (Conv2D)        (None, 100, 125, 128)     73856     \n",
            "_________________________________________________________________\n",
            "block2_conv2 (Conv2D)        (None, 100, 125, 128)     147584    \n",
            "_________________________________________________________________\n",
            "block2_pool (MaxPooling2D)   (None, 50, 62, 128)       0         \n",
            "_________________________________________________________________\n",
            "block3_conv1 (Conv2D)        (None, 50, 62, 256)       295168    \n",
            "_________________________________________________________________\n",
            "block3_conv2 (Conv2D)        (None, 50, 62, 256)       590080    \n",
            "_________________________________________________________________\n",
            "block3_conv3 (Conv2D)        (None, 50, 62, 256)       590080    \n",
            "_________________________________________________________________\n",
            "block3_pool (MaxPooling2D)   (None, 25, 31, 256)       0         \n",
            "_________________________________________________________________\n",
            "block4_conv1 (Conv2D)        (None, 25, 31, 512)       1180160   \n",
            "_________________________________________________________________\n",
            "block4_conv2 (Conv2D)        (None, 25, 31, 512)       2359808   \n",
            "_________________________________________________________________\n",
            "block4_conv3 (Conv2D)        (None, 25, 31, 512)       2359808   \n",
            "_________________________________________________________________\n",
            "block4_pool (MaxPooling2D)   (None, 12, 15, 512)       0         \n",
            "_________________________________________________________________\n",
            "block5_conv1 (Conv2D)        (None, 12, 15, 512)       2359808   \n",
            "_________________________________________________________________\n",
            "block5_conv2 (Conv2D)        (None, 12, 15, 512)       2359808   \n",
            "_________________________________________________________________\n",
            "block5_conv3 (Conv2D)        (None, 12, 15, 512)       2359808   \n",
            "_________________________________________________________________\n",
            "block5_pool (MaxPooling2D)   (None, 6, 7, 512)         0         \n",
            "_________________________________________________________________\n",
            "flatten (Flatten)            (None, 21504)             0         \n",
            "_________________________________________________________________\n",
            "dense (Dense)                (None, 512)               11010560  \n",
            "_________________________________________________________________\n",
            "dense_1 (Dense)              (None, 512)               262656    \n",
            "_________________________________________________________________\n",
            "dropout (Dropout)            (None, 512)               0         \n",
            "_________________________________________________________________\n",
            "dense_2 (Dense)              (None, 20)                10260     \n",
            "=================================================================\n",
            "Total params: 25,998,164\n",
            "Trainable params: 11,283,476\n",
            "Non-trainable params: 14,714,688\n",
            "_________________________________________________________________\n"
          ],
          "name": "stdout"
        }
      ]
    },
    {
      "cell_type": "markdown",
      "metadata": {
        "id": "JAj_I4rbqliW"
      },
      "source": [
        "We will use the follow two callbacks\n",
        "- Early Stopping - To prevent overfitting\n",
        "- Model Checkpoint - To save our model's training progress."
      ]
    },
    {
      "cell_type": "code",
      "metadata": {
        "id": "6lntpKLeSFuv"
      },
      "source": [
        "es = keras.callbacks.EarlyStopping(patience=10, restore_best_weights=True)\n",
        "cp = keras.callbacks.ModelCheckpoint('model1.h5', save_best_only=True)"
      ],
      "execution_count": 22,
      "outputs": []
    },
    {
      "cell_type": "markdown",
      "metadata": {
        "id": "lGf1dJUSq0tG"
      },
      "source": [
        "### The training begins !\n",
        "\n",
        "Note: the class_weights arugment is passed to acknowlegde the imbalanced dataset"
      ]
    },
    {
      "cell_type": "code",
      "metadata": {
        "colab": {
          "base_uri": "https://localhost:8080/"
        },
        "id": "FsBVgbf9M4W1",
        "outputId": "cb947e65-c32e-4634-b209-7b01602007cb"
      },
      "source": [
        "model.fit(X_train, y_train, epochs=25, validation_data=(X_test, y_test), batch_size=32, callbacks=[es, cp], class_weight=class_weights)"
      ],
      "execution_count": 23,
      "outputs": [
        {
          "output_type": "stream",
          "text": [
            "Epoch 1/25\n",
            "40/40 [==============================] - 51s 310ms/step - loss: 292.8799 - acc: 0.5925 - val_loss: 0.2258 - val_acc: 0.7200\n",
            "Epoch 2/25\n",
            "40/40 [==============================] - 6s 148ms/step - loss: 118.2095 - acc: 0.6682 - val_loss: 0.2092 - val_acc: 0.7156\n",
            "Epoch 3/25\n",
            "40/40 [==============================] - 6s 149ms/step - loss: 81.0756 - acc: 0.6813 - val_loss: 0.2013 - val_acc: 0.6978\n",
            "Epoch 4/25\n",
            "40/40 [==============================] - 6s 149ms/step - loss: 61.2795 - acc: 0.6196 - val_loss: 0.2187 - val_acc: 0.6844\n",
            "Epoch 5/25\n",
            "40/40 [==============================] - 6s 150ms/step - loss: 45.6060 - acc: 0.6249 - val_loss: 0.2106 - val_acc: 0.6800\n",
            "Epoch 6/25\n",
            "40/40 [==============================] - 6s 149ms/step - loss: 29.9109 - acc: 0.5960 - val_loss: 0.2322 - val_acc: 0.7067\n",
            "Epoch 7/25\n",
            "40/40 [==============================] - 6s 150ms/step - loss: 21.6214 - acc: 0.5741 - val_loss: 0.2336 - val_acc: 0.7111\n",
            "Epoch 8/25\n",
            "40/40 [==============================] - 6s 151ms/step - loss: 13.2055 - acc: 0.6379 - val_loss: 0.2221 - val_acc: 0.6222\n",
            "Epoch 9/25\n",
            "40/40 [==============================] - 6s 150ms/step - loss: 8.2883 - acc: 0.6390 - val_loss: 0.2567 - val_acc: 0.6978\n",
            "Epoch 10/25\n",
            "40/40 [==============================] - 6s 151ms/step - loss: 8.0266 - acc: 0.6574 - val_loss: 0.2634 - val_acc: 0.7022\n",
            "Epoch 11/25\n",
            "40/40 [==============================] - 6s 151ms/step - loss: 5.2585 - acc: 0.7027 - val_loss: 0.2623 - val_acc: 0.6800\n",
            "Epoch 12/25\n",
            "40/40 [==============================] - 6s 152ms/step - loss: 4.8455 - acc: 0.6732 - val_loss: 0.3262 - val_acc: 0.7200\n",
            "Epoch 13/25\n",
            "40/40 [==============================] - 6s 154ms/step - loss: 3.5808 - acc: 0.7051 - val_loss: 0.3000 - val_acc: 0.6356\n"
          ],
          "name": "stdout"
        },
        {
          "output_type": "execute_result",
          "data": {
            "text/plain": [
              "<tensorflow.python.keras.callbacks.History at 0x7f005e0666d0>"
            ]
          },
          "metadata": {
            "tags": []
          },
          "execution_count": 23
        }
      ]
    },
    {
      "cell_type": "markdown",
      "metadata": {
        "id": "r_MVvKSZrER8"
      },
      "source": [
        "# Evaluation"
      ]
    },
    {
      "cell_type": "code",
      "metadata": {
        "colab": {
          "base_uri": "https://localhost:8080/"
        },
        "id": "6aeR6U3ux9Xa",
        "outputId": "92726ecc-2820-4063-ba39-e77a500d8dc1"
      },
      "source": [
        "model.evaluate(X_test, y_test)"
      ],
      "execution_count": 24,
      "outputs": [
        {
          "output_type": "stream",
          "text": [
            "8/8 [==============================] - 1s 112ms/step - loss: 0.2013 - acc: 0.6978\n"
          ],
          "name": "stdout"
        },
        {
          "output_type": "execute_result",
          "data": {
            "text/plain": [
              "[0.20127879083156586, 0.6977777481079102]"
            ]
          },
          "metadata": {
            "tags": []
          },
          "execution_count": 24
        }
      ]
    },
    {
      "cell_type": "code",
      "metadata": {
        "id": "Qn3gpSl0yClQ"
      },
      "source": [
        "preds = (model.predict(images) > 0.5) * 1"
      ],
      "execution_count": 25,
      "outputs": []
    },
    {
      "cell_type": "markdown",
      "metadata": {
        "id": "TgvZHKjmrGlh"
      },
      "source": [
        "## F1 score\n",
        "\n",
        "This is a better metrics of measurement as the dataset is imbalanced"
      ]
    },
    {
      "cell_type": "code",
      "metadata": {
        "colab": {
          "base_uri": "https://localhost:8080/"
        },
        "id": "30QX1odm94FB",
        "outputId": "3982c45b-fe44-4412-877a-289d12a0f443"
      },
      "source": [
        "print(classification_report(preds, targets))"
      ],
      "execution_count": 26,
      "outputs": [
        {
          "output_type": "stream",
          "text": [
            "              precision    recall  f1-score   support\n",
            "\n",
            "           0       1.00      0.69      0.82      1497\n",
            "           1       0.40      1.00      0.57        30\n",
            "           2       0.08      1.00      0.14        10\n",
            "           3       0.24      1.00      0.38        14\n",
            "           4       0.28      0.97      0.44        60\n",
            "           5       0.37      0.96      0.53        23\n",
            "           6       0.12      1.00      0.22         7\n",
            "           7       0.44      0.98      0.61        50\n",
            "           8       0.53      0.97      0.69        34\n",
            "           9       0.53      0.84      0.65        37\n",
            "          10       0.71      0.68      0.70        66\n",
            "          11       0.16      1.00      0.27        21\n",
            "          12       0.82      0.92      0.87        97\n",
            "          13       0.26      1.00      0.41        17\n",
            "          14       0.51      0.95      0.67        37\n",
            "          15       0.06      1.00      0.12         8\n",
            "          16       0.61      0.89      0.72       167\n",
            "          17       0.03      1.00      0.06         2\n",
            "          18       0.32      1.00      0.49        24\n",
            "          19       0.79      0.71      0.75        73\n",
            "\n",
            "   micro avg       0.61      0.76      0.68      2274\n",
            "   macro avg       0.41      0.93      0.51      2274\n",
            "weighted avg       0.84      0.76      0.76      2274\n",
            " samples avg       0.61      0.72      0.64      2274\n",
            "\n"
          ],
          "name": "stdout"
        },
        {
          "output_type": "stream",
          "text": [
            "/usr/local/lib/python3.7/dist-packages/sklearn/metrics/_classification.py:1272: UndefinedMetricWarning: Precision and F-score are ill-defined and being set to 0.0 in samples with no predicted labels. Use `zero_division` parameter to control this behavior.\n",
            "  _warn_prf(average, modifier, msg_start, len(result))\n",
            "/usr/local/lib/python3.7/dist-packages/sklearn/metrics/_classification.py:1272: UndefinedMetricWarning: Recall and F-score are ill-defined and being set to 0.0 in samples with no true labels. Use `zero_division` parameter to control this behavior.\n",
            "  _warn_prf(average, modifier, msg_start, len(result))\n"
          ],
          "name": "stderr"
        }
      ]
    },
    {
      "cell_type": "code",
      "metadata": {
        "id": "LIfT_oFuCvht"
      },
      "source": [
        ""
      ],
      "execution_count": null,
      "outputs": []
    }
  ]
}