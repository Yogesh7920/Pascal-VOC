{
  "nbformat": 4,
  "nbformat_minor": 0,
  "metadata": {
    "colab": {
      "name": "DL_Team7.ipynb",
      "provenance": [],
      "collapsed_sections": []
    },
    "kernelspec": {
      "name": "python369jvsc74a57bd04cd7ab41f5fca4b9b44701077e38c5ffd31fe66a6cab21e0214b68d958d0e462",
      "display_name": "Python 3.6.9 64-bit"
    },
    "language_info": {
      "name": "python",
      "version": "3.6.9-final"
    },
    "metadata": {
      "interpreter": {
        "hash": "4cd7ab41f5fca4b9b44701077e38c5ffd31fe66a6cab21e0214b68d958d0e462"
      }
    }
  },
  "cells": [
    {
      "cell_type": "code",
      "execution_count": 58,
      "metadata": {},
      "outputs": [],
      "source": [
        "import os\n",
        "import re\n",
        "import pprint\n",
        "import matplotlib.pyplot as plt\n",
        "import matplotlib.image as mpimg\n",
        "import xmltodict\n",
        "import numpy as np\n",
        "import scipy.io\n",
        "from PIL import Image\n",
        "import requests\n",
        "import shutil"
      ]
    },
    {
      "cell_type": "code",
      "execution_count": 26,
      "metadata": {},
      "outputs": [
        {
          "output_type": "stream",
          "name": "stdout",
          "text": [
            "--2021-04-12 16:08:22--  https://filebox.ece.vt.edu/~vrama91/CIDEr_miscellanous/cider_datasets.tar\n",
            "Resolving filebox.ece.vt.edu (filebox.ece.vt.edu)... 128.173.88.43\n",
            "Connecting to filebox.ece.vt.edu (filebox.ece.vt.edu)|128.173.88.43|:443... connected.\n",
            "HTTP request sent, awaiting response... 200 OK\n",
            "Length: 1680626 (1.6M) [application/x-tar]\n",
            "Saving to: ‘cider_datasets.tar’\n",
            "\n",
            "cider_datasets.tar  100%[===================>]   1.60M   189KB/s    in 11s     \n",
            "\n",
            "2021-04-12 16:08:36 (149 KB/s) - ‘cider_datasets.tar’ saved [1680626/1680626]\n",
            "\n"
          ]
        }
      ],
      "source": [
        "!wget https://filebox.ece.vt.edu/~vrama91/CIDEr_miscellanous/cider_datasets.tar\n",
        "!tar -xvf cider_datasets.tar > /dev/null"
      ]
    },
    {
      "cell_type": "code",
      "execution_count": 126,
      "metadata": {},
      "outputs": [],
      "source": [
        "abstract50S = scipy.io.loadmat(\"Datasets/abstract50S.mat\")\n",
        "pascal50S = scipy.io.loadmat(\"Datasets/pascal50S.mat\")"
      ]
    },
    {
      "cell_type": "code",
      "execution_count": 127,
      "metadata": {},
      "outputs": [],
      "source": [
        "def create_dir(dir):\n",
        "    if not os.path.exists(dir):\n",
        "        os.makedirs(dir)"
      ]
    },
    {
      "cell_type": "code",
      "execution_count": 128,
      "metadata": {},
      "outputs": [],
      "source": [
        "abstract50S_path = {}\n",
        "abstract50S_path[\"images\"] = \"Datasets/abstract50S/images/\"\n",
        "abstract50S_path[\"annotations\"] = \"Datasets/abstract50S/annotations/\"\n",
        "create_dir(abstract50S_path[\"images\"])\n",
        "create_dir(abstract50S_path[\"annotations\"])\n",
        "\n",
        "pascal50S_path = {}\n",
        "pascal50S_path[\"images\"] = \"Datasets/pascal50S/images/\"\n",
        "pascal50S_path[\"annotations\"] = \"Datasets/pascal50S/annotations/\"\n",
        "create_dir(pascal50S_path[\"images\"])\n",
        "create_dir(pascal50S_path[\"annotations\"])\n",
        "\n",
        "pascal50S = pascal50S['train_sent_final'].flatten()\n",
        "abstract50S = abstract50S['abs_sent'].flatten()"
      ]
    },
    {
      "cell_type": "code",
      "execution_count": 136,
      "metadata": {},
      "outputs": [],
      "source": [
        "ds = []\n",
        "for (desc, img) in abstract50S:\n",
        "    ds.append((img, desc))\n",
        "\n",
        "pascal50S = list(pascal50S)\n",
        "abstract50S = ds"
      ]
    },
    {
      "cell_type": "code",
      "execution_count": 137,
      "metadata": {},
      "outputs": [],
      "source": [
        "def get_dataset(dataset, dataset_path):\n",
        "    for (i, (img, desc)) in enumerate(dataset, start=1):\n",
        "        desc = desc.flatten()\n",
        "        url = img[0]\n",
        "        response = requests.get(url, stream=True)\n",
        "        img_save_path = dataset_path[\"images\"] + '{:04d}.jpg'.format(i)\n",
        "        desc_save_path = dataset_path[\"annotations\"] + '{:04d}.npy'.format(i)\n",
        "        with open(img_save_path, 'wb') as out_file:\n",
        "            shutil.copyfileobj(response.raw, out_file)\n",
        "        del response\n",
        "        with open(desc_save_path, 'wb') as out_file:\n",
        "            np.save(out_file, desc)\n",
        "\n",
        "get_dataset(pascal50S, pascal50S_path)\n",
        "get_dataset(abstract50S, abstract50S_path)\n",
        "    "
      ]
    }
  ]
}