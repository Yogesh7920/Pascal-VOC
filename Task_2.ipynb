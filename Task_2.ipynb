{
  "nbformat": 4,
  "nbformat_minor": 0,
  "metadata": {
    "accelerator": "GPU",
    "colab": {
      "name": "Task_2.ipynb",
      "provenance": [],
      "collapsed_sections": [],
      "toc_visible": true,
      "include_colab_link": true
    },
    "kernelspec": {
      "display_name": "Python 3",
      "name": "python3"
    },
    "language_info": {
      "name": "python"
    },
    "widgets": {
      "application/vnd.jupyter.widget-state+json": {
        "e42ceffda8f14529b58be34bc8a222e3": {
          "model_module": "@jupyter-widgets/controls",
          "model_name": "HBoxModel",
          "state": {
            "_view_name": "HBoxView",
            "_dom_classes": [],
            "_model_name": "HBoxModel",
            "_view_module": "@jupyter-widgets/controls",
            "_model_module_version": "1.5.0",
            "_view_count": null,
            "_view_module_version": "1.5.0",
            "box_style": "",
            "layout": "IPY_MODEL_a4687a28c2224a46a34abf2542b3c34b",
            "_model_module": "@jupyter-widgets/controls",
            "children": [
              "IPY_MODEL_bc1f555df01b4174b533497184c86f3a",
              "IPY_MODEL_241930f8110d4b95bade2be27118faae"
            ]
          }
        },
        "a4687a28c2224a46a34abf2542b3c34b": {
          "model_module": "@jupyter-widgets/base",
          "model_name": "LayoutModel",
          "state": {
            "_view_name": "LayoutView",
            "grid_template_rows": null,
            "right": null,
            "justify_content": null,
            "_view_module": "@jupyter-widgets/base",
            "overflow": null,
            "_model_module_version": "1.2.0",
            "_view_count": null,
            "flex_flow": null,
            "width": null,
            "min_width": null,
            "border": null,
            "align_items": null,
            "bottom": null,
            "_model_module": "@jupyter-widgets/base",
            "top": null,
            "grid_column": null,
            "overflow_y": null,
            "overflow_x": null,
            "grid_auto_flow": null,
            "grid_area": null,
            "grid_template_columns": null,
            "flex": null,
            "_model_name": "LayoutModel",
            "justify_items": null,
            "grid_row": null,
            "max_height": null,
            "align_content": null,
            "visibility": null,
            "align_self": null,
            "height": null,
            "min_height": null,
            "padding": null,
            "grid_auto_rows": null,
            "grid_gap": null,
            "max_width": null,
            "order": null,
            "_view_module_version": "1.2.0",
            "grid_template_areas": null,
            "object_position": null,
            "object_fit": null,
            "grid_auto_columns": null,
            "margin": null,
            "display": null,
            "left": null
          }
        },
        "bc1f555df01b4174b533497184c86f3a": {
          "model_module": "@jupyter-widgets/controls",
          "model_name": "FloatProgressModel",
          "state": {
            "_view_name": "ProgressView",
            "style": "IPY_MODEL_1e1e20c130f54c749640de54d5b13e9e",
            "_dom_classes": [],
            "description": "100%",
            "_model_name": "FloatProgressModel",
            "bar_style": "success",
            "max": 1500,
            "_view_module": "@jupyter-widgets/controls",
            "_model_module_version": "1.5.0",
            "value": 1500,
            "_view_count": null,
            "_view_module_version": "1.5.0",
            "orientation": "horizontal",
            "min": 0,
            "description_tooltip": null,
            "_model_module": "@jupyter-widgets/controls",
            "layout": "IPY_MODEL_4e7e075b285644188ca155bf185eb04f"
          }
        },
        "241930f8110d4b95bade2be27118faae": {
          "model_module": "@jupyter-widgets/controls",
          "model_name": "HTMLModel",
          "state": {
            "_view_name": "HTMLView",
            "style": "IPY_MODEL_2d3b2354287e42a69b6a1d3f3c41d497",
            "_dom_classes": [],
            "description": "",
            "_model_name": "HTMLModel",
            "placeholder": "​",
            "_view_module": "@jupyter-widgets/controls",
            "_model_module_version": "1.5.0",
            "value": " 1500/1500 [00:57&lt;00:00, 26.28it/s]",
            "_view_count": null,
            "_view_module_version": "1.5.0",
            "description_tooltip": null,
            "_model_module": "@jupyter-widgets/controls",
            "layout": "IPY_MODEL_0963c09750c84e2fbb45824c54c1022f"
          }
        },
        "1e1e20c130f54c749640de54d5b13e9e": {
          "model_module": "@jupyter-widgets/controls",
          "model_name": "ProgressStyleModel",
          "state": {
            "_view_name": "StyleView",
            "_model_name": "ProgressStyleModel",
            "description_width": "initial",
            "_view_module": "@jupyter-widgets/base",
            "_model_module_version": "1.5.0",
            "_view_count": null,
            "_view_module_version": "1.2.0",
            "bar_color": null,
            "_model_module": "@jupyter-widgets/controls"
          }
        },
        "4e7e075b285644188ca155bf185eb04f": {
          "model_module": "@jupyter-widgets/base",
          "model_name": "LayoutModel",
          "state": {
            "_view_name": "LayoutView",
            "grid_template_rows": null,
            "right": null,
            "justify_content": null,
            "_view_module": "@jupyter-widgets/base",
            "overflow": null,
            "_model_module_version": "1.2.0",
            "_view_count": null,
            "flex_flow": null,
            "width": null,
            "min_width": null,
            "border": null,
            "align_items": null,
            "bottom": null,
            "_model_module": "@jupyter-widgets/base",
            "top": null,
            "grid_column": null,
            "overflow_y": null,
            "overflow_x": null,
            "grid_auto_flow": null,
            "grid_area": null,
            "grid_template_columns": null,
            "flex": null,
            "_model_name": "LayoutModel",
            "justify_items": null,
            "grid_row": null,
            "max_height": null,
            "align_content": null,
            "visibility": null,
            "align_self": null,
            "height": null,
            "min_height": null,
            "padding": null,
            "grid_auto_rows": null,
            "grid_gap": null,
            "max_width": null,
            "order": null,
            "_view_module_version": "1.2.0",
            "grid_template_areas": null,
            "object_position": null,
            "object_fit": null,
            "grid_auto_columns": null,
            "margin": null,
            "display": null,
            "left": null
          }
        },
        "2d3b2354287e42a69b6a1d3f3c41d497": {
          "model_module": "@jupyter-widgets/controls",
          "model_name": "DescriptionStyleModel",
          "state": {
            "_view_name": "StyleView",
            "_model_name": "DescriptionStyleModel",
            "description_width": "",
            "_view_module": "@jupyter-widgets/base",
            "_model_module_version": "1.5.0",
            "_view_count": null,
            "_view_module_version": "1.2.0",
            "_model_module": "@jupyter-widgets/controls"
          }
        },
        "0963c09750c84e2fbb45824c54c1022f": {
          "model_module": "@jupyter-widgets/base",
          "model_name": "LayoutModel",
          "state": {
            "_view_name": "LayoutView",
            "grid_template_rows": null,
            "right": null,
            "justify_content": null,
            "_view_module": "@jupyter-widgets/base",
            "overflow": null,
            "_model_module_version": "1.2.0",
            "_view_count": null,
            "flex_flow": null,
            "width": null,
            "min_width": null,
            "border": null,
            "align_items": null,
            "bottom": null,
            "_model_module": "@jupyter-widgets/base",
            "top": null,
            "grid_column": null,
            "overflow_y": null,
            "overflow_x": null,
            "grid_auto_flow": null,
            "grid_area": null,
            "grid_template_columns": null,
            "flex": null,
            "_model_name": "LayoutModel",
            "justify_items": null,
            "grid_row": null,
            "max_height": null,
            "align_content": null,
            "visibility": null,
            "align_self": null,
            "height": null,
            "min_height": null,
            "padding": null,
            "grid_auto_rows": null,
            "grid_gap": null,
            "max_width": null,
            "order": null,
            "_view_module_version": "1.2.0",
            "grid_template_areas": null,
            "object_position": null,
            "object_fit": null,
            "grid_auto_columns": null,
            "margin": null,
            "display": null,
            "left": null
          }
        },
        "6fed220feea548ff8a3c654a9f81b3c3": {
          "model_module": "@jupyter-widgets/controls",
          "model_name": "HBoxModel",
          "state": {
            "_view_name": "HBoxView",
            "_dom_classes": [],
            "_model_name": "HBoxModel",
            "_view_module": "@jupyter-widgets/controls",
            "_model_module_version": "1.5.0",
            "_view_count": null,
            "_view_module_version": "1.5.0",
            "box_style": "",
            "layout": "IPY_MODEL_17ef5f81fec84125a03eec0bb44d60f8",
            "_model_module": "@jupyter-widgets/controls",
            "children": [
              "IPY_MODEL_ae7b292cfc4345ce9c0fef4481bd8cb7",
              "IPY_MODEL_ce31e46245fa4c1fb0d5c8a120fa08ad"
            ]
          }
        },
        "17ef5f81fec84125a03eec0bb44d60f8": {
          "model_module": "@jupyter-widgets/base",
          "model_name": "LayoutModel",
          "state": {
            "_view_name": "LayoutView",
            "grid_template_rows": null,
            "right": null,
            "justify_content": null,
            "_view_module": "@jupyter-widgets/base",
            "overflow": null,
            "_model_module_version": "1.2.0",
            "_view_count": null,
            "flex_flow": null,
            "width": null,
            "min_width": null,
            "border": null,
            "align_items": null,
            "bottom": null,
            "_model_module": "@jupyter-widgets/base",
            "top": null,
            "grid_column": null,
            "overflow_y": null,
            "overflow_x": null,
            "grid_auto_flow": null,
            "grid_area": null,
            "grid_template_columns": null,
            "flex": null,
            "_model_name": "LayoutModel",
            "justify_items": null,
            "grid_row": null,
            "max_height": null,
            "align_content": null,
            "visibility": null,
            "align_self": null,
            "height": null,
            "min_height": null,
            "padding": null,
            "grid_auto_rows": null,
            "grid_gap": null,
            "max_width": null,
            "order": null,
            "_view_module_version": "1.2.0",
            "grid_template_areas": null,
            "object_position": null,
            "object_fit": null,
            "grid_auto_columns": null,
            "margin": null,
            "display": null,
            "left": null
          }
        },
        "ae7b292cfc4345ce9c0fef4481bd8cb7": {
          "model_module": "@jupyter-widgets/controls",
          "model_name": "FloatProgressModel",
          "state": {
            "_view_name": "ProgressView",
            "style": "IPY_MODEL_9275c5bf6c884a7bb141ba1a280eaa76",
            "_dom_classes": [],
            "description": "100%",
            "_model_name": "FloatProgressModel",
            "bar_style": "success",
            "max": 1500,
            "_view_module": "@jupyter-widgets/controls",
            "_model_module_version": "1.5.0",
            "value": 1500,
            "_view_count": null,
            "_view_module_version": "1.5.0",
            "orientation": "horizontal",
            "min": 0,
            "description_tooltip": null,
            "_model_module": "@jupyter-widgets/controls",
            "layout": "IPY_MODEL_014d2cb25c824b35b54e639751cb3bee"
          }
        },
        "ce31e46245fa4c1fb0d5c8a120fa08ad": {
          "model_module": "@jupyter-widgets/controls",
          "model_name": "HTMLModel",
          "state": {
            "_view_name": "HTMLView",
            "style": "IPY_MODEL_7e6ba2c5e44244e3a88d9cdb05c5dd97",
            "_dom_classes": [],
            "description": "",
            "_model_name": "HTMLModel",
            "placeholder": "​",
            "_view_module": "@jupyter-widgets/controls",
            "_model_module_version": "1.5.0",
            "value": " 1500/1500 [03:40&lt;00:00,  6.80it/s]",
            "_view_count": null,
            "_view_module_version": "1.5.0",
            "description_tooltip": null,
            "_model_module": "@jupyter-widgets/controls",
            "layout": "IPY_MODEL_2eff06f43c48478098935c5799d05113"
          }
        },
        "9275c5bf6c884a7bb141ba1a280eaa76": {
          "model_module": "@jupyter-widgets/controls",
          "model_name": "ProgressStyleModel",
          "state": {
            "_view_name": "StyleView",
            "_model_name": "ProgressStyleModel",
            "description_width": "initial",
            "_view_module": "@jupyter-widgets/base",
            "_model_module_version": "1.5.0",
            "_view_count": null,
            "_view_module_version": "1.2.0",
            "bar_color": null,
            "_model_module": "@jupyter-widgets/controls"
          }
        },
        "014d2cb25c824b35b54e639751cb3bee": {
          "model_module": "@jupyter-widgets/base",
          "model_name": "LayoutModel",
          "state": {
            "_view_name": "LayoutView",
            "grid_template_rows": null,
            "right": null,
            "justify_content": null,
            "_view_module": "@jupyter-widgets/base",
            "overflow": null,
            "_model_module_version": "1.2.0",
            "_view_count": null,
            "flex_flow": null,
            "width": null,
            "min_width": null,
            "border": null,
            "align_items": null,
            "bottom": null,
            "_model_module": "@jupyter-widgets/base",
            "top": null,
            "grid_column": null,
            "overflow_y": null,
            "overflow_x": null,
            "grid_auto_flow": null,
            "grid_area": null,
            "grid_template_columns": null,
            "flex": null,
            "_model_name": "LayoutModel",
            "justify_items": null,
            "grid_row": null,
            "max_height": null,
            "align_content": null,
            "visibility": null,
            "align_self": null,
            "height": null,
            "min_height": null,
            "padding": null,
            "grid_auto_rows": null,
            "grid_gap": null,
            "max_width": null,
            "order": null,
            "_view_module_version": "1.2.0",
            "grid_template_areas": null,
            "object_position": null,
            "object_fit": null,
            "grid_auto_columns": null,
            "margin": null,
            "display": null,
            "left": null
          }
        },
        "7e6ba2c5e44244e3a88d9cdb05c5dd97": {
          "model_module": "@jupyter-widgets/controls",
          "model_name": "DescriptionStyleModel",
          "state": {
            "_view_name": "StyleView",
            "_model_name": "DescriptionStyleModel",
            "description_width": "",
            "_view_module": "@jupyter-widgets/base",
            "_model_module_version": "1.5.0",
            "_view_count": null,
            "_view_module_version": "1.2.0",
            "_model_module": "@jupyter-widgets/controls"
          }
        },
        "2eff06f43c48478098935c5799d05113": {
          "model_module": "@jupyter-widgets/base",
          "model_name": "LayoutModel",
          "state": {
            "_view_name": "LayoutView",
            "grid_template_rows": null,
            "right": null,
            "justify_content": null,
            "_view_module": "@jupyter-widgets/base",
            "overflow": null,
            "_model_module_version": "1.2.0",
            "_view_count": null,
            "flex_flow": null,
            "width": null,
            "min_width": null,
            "border": null,
            "align_items": null,
            "bottom": null,
            "_model_module": "@jupyter-widgets/base",
            "top": null,
            "grid_column": null,
            "overflow_y": null,
            "overflow_x": null,
            "grid_auto_flow": null,
            "grid_area": null,
            "grid_template_columns": null,
            "flex": null,
            "_model_name": "LayoutModel",
            "justify_items": null,
            "grid_row": null,
            "max_height": null,
            "align_content": null,
            "visibility": null,
            "align_self": null,
            "height": null,
            "min_height": null,
            "padding": null,
            "grid_auto_rows": null,
            "grid_gap": null,
            "max_width": null,
            "order": null,
            "_view_module_version": "1.2.0",
            "grid_template_areas": null,
            "object_position": null,
            "object_fit": null,
            "grid_auto_columns": null,
            "margin": null,
            "display": null,
            "left": null
          }
        },
        "786ac4d3046445dc8dc1d3c3458a96c6": {
          "model_module": "@jupyter-widgets/controls",
          "model_name": "HBoxModel",
          "state": {
            "_view_name": "HBoxView",
            "_dom_classes": [],
            "_model_name": "HBoxModel",
            "_view_module": "@jupyter-widgets/controls",
            "_model_module_version": "1.5.0",
            "_view_count": null,
            "_view_module_version": "1.5.0",
            "box_style": "",
            "layout": "IPY_MODEL_900e0c70c23b4178b6afc5cc460d4781",
            "_model_module": "@jupyter-widgets/controls",
            "children": [
              "IPY_MODEL_ac715b99aba347b39c42e414687e08a0",
              "IPY_MODEL_9cc0d0b44e914e019ca6ba62faf13d14"
            ]
          }
        },
        "900e0c70c23b4178b6afc5cc460d4781": {
          "model_module": "@jupyter-widgets/base",
          "model_name": "LayoutModel",
          "state": {
            "_view_name": "LayoutView",
            "grid_template_rows": null,
            "right": null,
            "justify_content": null,
            "_view_module": "@jupyter-widgets/base",
            "overflow": null,
            "_model_module_version": "1.2.0",
            "_view_count": null,
            "flex_flow": null,
            "width": null,
            "min_width": null,
            "border": null,
            "align_items": null,
            "bottom": null,
            "_model_module": "@jupyter-widgets/base",
            "top": null,
            "grid_column": null,
            "overflow_y": null,
            "overflow_x": null,
            "grid_auto_flow": null,
            "grid_area": null,
            "grid_template_columns": null,
            "flex": null,
            "_model_name": "LayoutModel",
            "justify_items": null,
            "grid_row": null,
            "max_height": null,
            "align_content": null,
            "visibility": null,
            "align_self": null,
            "height": null,
            "min_height": null,
            "padding": null,
            "grid_auto_rows": null,
            "grid_gap": null,
            "max_width": null,
            "order": null,
            "_view_module_version": "1.2.0",
            "grid_template_areas": null,
            "object_position": null,
            "object_fit": null,
            "grid_auto_columns": null,
            "margin": null,
            "display": null,
            "left": null
          }
        },
        "ac715b99aba347b39c42e414687e08a0": {
          "model_module": "@jupyter-widgets/controls",
          "model_name": "FloatProgressModel",
          "state": {
            "_view_name": "ProgressView",
            "style": "IPY_MODEL_ebbe70e311664185ac2c029fd636144a",
            "_dom_classes": [],
            "description": "100%",
            "_model_name": "FloatProgressModel",
            "bar_style": "success",
            "max": 1500,
            "_view_module": "@jupyter-widgets/controls",
            "_model_module_version": "1.5.0",
            "value": 1500,
            "_view_count": null,
            "_view_module_version": "1.5.0",
            "orientation": "horizontal",
            "min": 0,
            "description_tooltip": null,
            "_model_module": "@jupyter-widgets/controls",
            "layout": "IPY_MODEL_e5ecff9d9a854a158a124464bfbc1600"
          }
        },
        "9cc0d0b44e914e019ca6ba62faf13d14": {
          "model_module": "@jupyter-widgets/controls",
          "model_name": "HTMLModel",
          "state": {
            "_view_name": "HTMLView",
            "style": "IPY_MODEL_ed554b0ac1c94befacff1fdf27f79fc9",
            "_dom_classes": [],
            "description": "",
            "_model_name": "HTMLModel",
            "placeholder": "​",
            "_view_module": "@jupyter-widgets/controls",
            "_model_module_version": "1.5.0",
            "value": " 1500/1500 [00:04&lt;00:00, 358.47it/s]",
            "_view_count": null,
            "_view_module_version": "1.5.0",
            "description_tooltip": null,
            "_model_module": "@jupyter-widgets/controls",
            "layout": "IPY_MODEL_98dccffec9d14afabceed067dbdd85f3"
          }
        },
        "ebbe70e311664185ac2c029fd636144a": {
          "model_module": "@jupyter-widgets/controls",
          "model_name": "ProgressStyleModel",
          "state": {
            "_view_name": "StyleView",
            "_model_name": "ProgressStyleModel",
            "description_width": "initial",
            "_view_module": "@jupyter-widgets/base",
            "_model_module_version": "1.5.0",
            "_view_count": null,
            "_view_module_version": "1.2.0",
            "bar_color": null,
            "_model_module": "@jupyter-widgets/controls"
          }
        },
        "e5ecff9d9a854a158a124464bfbc1600": {
          "model_module": "@jupyter-widgets/base",
          "model_name": "LayoutModel",
          "state": {
            "_view_name": "LayoutView",
            "grid_template_rows": null,
            "right": null,
            "justify_content": null,
            "_view_module": "@jupyter-widgets/base",
            "overflow": null,
            "_model_module_version": "1.2.0",
            "_view_count": null,
            "flex_flow": null,
            "width": null,
            "min_width": null,
            "border": null,
            "align_items": null,
            "bottom": null,
            "_model_module": "@jupyter-widgets/base",
            "top": null,
            "grid_column": null,
            "overflow_y": null,
            "overflow_x": null,
            "grid_auto_flow": null,
            "grid_area": null,
            "grid_template_columns": null,
            "flex": null,
            "_model_name": "LayoutModel",
            "justify_items": null,
            "grid_row": null,
            "max_height": null,
            "align_content": null,
            "visibility": null,
            "align_self": null,
            "height": null,
            "min_height": null,
            "padding": null,
            "grid_auto_rows": null,
            "grid_gap": null,
            "max_width": null,
            "order": null,
            "_view_module_version": "1.2.0",
            "grid_template_areas": null,
            "object_position": null,
            "object_fit": null,
            "grid_auto_columns": null,
            "margin": null,
            "display": null,
            "left": null
          }
        },
        "ed554b0ac1c94befacff1fdf27f79fc9": {
          "model_module": "@jupyter-widgets/controls",
          "model_name": "DescriptionStyleModel",
          "state": {
            "_view_name": "StyleView",
            "_model_name": "DescriptionStyleModel",
            "description_width": "",
            "_view_module": "@jupyter-widgets/base",
            "_model_module_version": "1.5.0",
            "_view_count": null,
            "_view_module_version": "1.2.0",
            "_model_module": "@jupyter-widgets/controls"
          }
        },
        "98dccffec9d14afabceed067dbdd85f3": {
          "model_module": "@jupyter-widgets/base",
          "model_name": "LayoutModel",
          "state": {
            "_view_name": "LayoutView",
            "grid_template_rows": null,
            "right": null,
            "justify_content": null,
            "_view_module": "@jupyter-widgets/base",
            "overflow": null,
            "_model_module_version": "1.2.0",
            "_view_count": null,
            "flex_flow": null,
            "width": null,
            "min_width": null,
            "border": null,
            "align_items": null,
            "bottom": null,
            "_model_module": "@jupyter-widgets/base",
            "top": null,
            "grid_column": null,
            "overflow_y": null,
            "overflow_x": null,
            "grid_auto_flow": null,
            "grid_area": null,
            "grid_template_columns": null,
            "flex": null,
            "_model_name": "LayoutModel",
            "justify_items": null,
            "grid_row": null,
            "max_height": null,
            "align_content": null,
            "visibility": null,
            "align_self": null,
            "height": null,
            "min_height": null,
            "padding": null,
            "grid_auto_rows": null,
            "grid_gap": null,
            "max_width": null,
            "order": null,
            "_view_module_version": "1.2.0",
            "grid_template_areas": null,
            "object_position": null,
            "object_fit": null,
            "grid_auto_columns": null,
            "margin": null,
            "display": null,
            "left": null
          }
        },
        "ed891f8d2d614fcc9689bd6ca89a7938": {
          "model_module": "@jupyter-widgets/controls",
          "model_name": "HBoxModel",
          "state": {
            "_view_name": "HBoxView",
            "_dom_classes": [],
            "_model_name": "HBoxModel",
            "_view_module": "@jupyter-widgets/controls",
            "_model_module_version": "1.5.0",
            "_view_count": null,
            "_view_module_version": "1.5.0",
            "box_style": "",
            "layout": "IPY_MODEL_f79a0b6d3a154cd2b703160c3f36212b",
            "_model_module": "@jupyter-widgets/controls",
            "children": [
              "IPY_MODEL_f9099953cdff4665a3736667d3a0ff0e",
              "IPY_MODEL_bffa8670e8644886828272ed599260d4"
            ]
          }
        },
        "f79a0b6d3a154cd2b703160c3f36212b": {
          "model_module": "@jupyter-widgets/base",
          "model_name": "LayoutModel",
          "state": {
            "_view_name": "LayoutView",
            "grid_template_rows": null,
            "right": null,
            "justify_content": null,
            "_view_module": "@jupyter-widgets/base",
            "overflow": null,
            "_model_module_version": "1.2.0",
            "_view_count": null,
            "flex_flow": null,
            "width": null,
            "min_width": null,
            "border": null,
            "align_items": null,
            "bottom": null,
            "_model_module": "@jupyter-widgets/base",
            "top": null,
            "grid_column": null,
            "overflow_y": null,
            "overflow_x": null,
            "grid_auto_flow": null,
            "grid_area": null,
            "grid_template_columns": null,
            "flex": null,
            "_model_name": "LayoutModel",
            "justify_items": null,
            "grid_row": null,
            "max_height": null,
            "align_content": null,
            "visibility": null,
            "align_self": null,
            "height": null,
            "min_height": null,
            "padding": null,
            "grid_auto_rows": null,
            "grid_gap": null,
            "max_width": null,
            "order": null,
            "_view_module_version": "1.2.0",
            "grid_template_areas": null,
            "object_position": null,
            "object_fit": null,
            "grid_auto_columns": null,
            "margin": null,
            "display": null,
            "left": null
          }
        },
        "f9099953cdff4665a3736667d3a0ff0e": {
          "model_module": "@jupyter-widgets/controls",
          "model_name": "FloatProgressModel",
          "state": {
            "_view_name": "ProgressView",
            "style": "IPY_MODEL_e20c5b207f5b4494badfeef4789b1580",
            "_dom_classes": [],
            "description": "100%",
            "_model_name": "FloatProgressModel",
            "bar_style": "success",
            "max": 7500,
            "_view_module": "@jupyter-widgets/controls",
            "_model_module_version": "1.5.0",
            "value": 7500,
            "_view_count": null,
            "_view_module_version": "1.5.0",
            "orientation": "horizontal",
            "min": 0,
            "description_tooltip": null,
            "_model_module": "@jupyter-widgets/controls",
            "layout": "IPY_MODEL_fa69cd2a13c44d29bf869430071c7f26"
          }
        },
        "bffa8670e8644886828272ed599260d4": {
          "model_module": "@jupyter-widgets/controls",
          "model_name": "HTMLModel",
          "state": {
            "_view_name": "HTMLView",
            "style": "IPY_MODEL_4fbfa80d90494551a407e29f58fcafd7",
            "_dom_classes": [],
            "description": "",
            "_model_name": "HTMLModel",
            "placeholder": "​",
            "_view_module": "@jupyter-widgets/controls",
            "_model_module_version": "1.5.0",
            "value": " 7500/7500 [00:29&lt;00:00, 254.69it/s]",
            "_view_count": null,
            "_view_module_version": "1.5.0",
            "description_tooltip": null,
            "_model_module": "@jupyter-widgets/controls",
            "layout": "IPY_MODEL_469841f269914e51893e830132f5dfc5"
          }
        },
        "e20c5b207f5b4494badfeef4789b1580": {
          "model_module": "@jupyter-widgets/controls",
          "model_name": "ProgressStyleModel",
          "state": {
            "_view_name": "StyleView",
            "_model_name": "ProgressStyleModel",
            "description_width": "initial",
            "_view_module": "@jupyter-widgets/base",
            "_model_module_version": "1.5.0",
            "_view_count": null,
            "_view_module_version": "1.2.0",
            "bar_color": null,
            "_model_module": "@jupyter-widgets/controls"
          }
        },
        "fa69cd2a13c44d29bf869430071c7f26": {
          "model_module": "@jupyter-widgets/base",
          "model_name": "LayoutModel",
          "state": {
            "_view_name": "LayoutView",
            "grid_template_rows": null,
            "right": null,
            "justify_content": null,
            "_view_module": "@jupyter-widgets/base",
            "overflow": null,
            "_model_module_version": "1.2.0",
            "_view_count": null,
            "flex_flow": null,
            "width": null,
            "min_width": null,
            "border": null,
            "align_items": null,
            "bottom": null,
            "_model_module": "@jupyter-widgets/base",
            "top": null,
            "grid_column": null,
            "overflow_y": null,
            "overflow_x": null,
            "grid_auto_flow": null,
            "grid_area": null,
            "grid_template_columns": null,
            "flex": null,
            "_model_name": "LayoutModel",
            "justify_items": null,
            "grid_row": null,
            "max_height": null,
            "align_content": null,
            "visibility": null,
            "align_self": null,
            "height": null,
            "min_height": null,
            "padding": null,
            "grid_auto_rows": null,
            "grid_gap": null,
            "max_width": null,
            "order": null,
            "_view_module_version": "1.2.0",
            "grid_template_areas": null,
            "object_position": null,
            "object_fit": null,
            "grid_auto_columns": null,
            "margin": null,
            "display": null,
            "left": null
          }
        },
        "4fbfa80d90494551a407e29f58fcafd7": {
          "model_module": "@jupyter-widgets/controls",
          "model_name": "DescriptionStyleModel",
          "state": {
            "_view_name": "StyleView",
            "_model_name": "DescriptionStyleModel",
            "description_width": "",
            "_view_module": "@jupyter-widgets/base",
            "_model_module_version": "1.5.0",
            "_view_count": null,
            "_view_module_version": "1.2.0",
            "_model_module": "@jupyter-widgets/controls"
          }
        },
        "469841f269914e51893e830132f5dfc5": {
          "model_module": "@jupyter-widgets/base",
          "model_name": "LayoutModel",
          "state": {
            "_view_name": "LayoutView",
            "grid_template_rows": null,
            "right": null,
            "justify_content": null,
            "_view_module": "@jupyter-widgets/base",
            "overflow": null,
            "_model_module_version": "1.2.0",
            "_view_count": null,
            "flex_flow": null,
            "width": null,
            "min_width": null,
            "border": null,
            "align_items": null,
            "bottom": null,
            "_model_module": "@jupyter-widgets/base",
            "top": null,
            "grid_column": null,
            "overflow_y": null,
            "overflow_x": null,
            "grid_auto_flow": null,
            "grid_area": null,
            "grid_template_columns": null,
            "flex": null,
            "_model_name": "LayoutModel",
            "justify_items": null,
            "grid_row": null,
            "max_height": null,
            "align_content": null,
            "visibility": null,
            "align_self": null,
            "height": null,
            "min_height": null,
            "padding": null,
            "grid_auto_rows": null,
            "grid_gap": null,
            "max_width": null,
            "order": null,
            "_view_module_version": "1.2.0",
            "grid_template_areas": null,
            "object_position": null,
            "object_fit": null,
            "grid_auto_columns": null,
            "margin": null,
            "display": null,
            "left": null
          }
        }
      }
    }
  },
  "cells": [
    {
      "cell_type": "markdown",
      "metadata": {
        "id": "view-in-github",
        "colab_type": "text"
      },
      "source": [
        "<a href=\"https://colab.research.google.com/github/Yogesh7920/Pascal-VOC/blob/main/Task_2.ipynb\" target=\"_parent\"><img src=\"https://colab.research.google.com/assets/colab-badge.svg\" alt=\"Open In Colab\"/></a>"
      ]
    },
    {
      "cell_type": "code",
      "metadata": {
        "id": "w1W-WRRXuCfW",
        "colab": {
          "base_uri": "https://localhost:8080/"
        },
        "outputId": "69800560-eb8c-4040-abb5-a43e7342932e"
      },
      "source": [
        "from google.colab import drive\n",
        "drive.mount('/content/drive')"
      ],
      "execution_count": 1,
      "outputs": [
        {
          "output_type": "stream",
          "text": [
            "Mounted at /content/drive\n"
          ],
          "name": "stdout"
        }
      ]
    },
    {
      "cell_type": "code",
      "metadata": {
        "id": "-1lXaEyqavZm"
      },
      "source": [
        "\"\"\"\n",
        "Needed for BERT.\n",
        "\"\"\"\n",
        "!pip install tensorflow-text\n",
        "!pip install tensorflow_addons"
      ],
      "execution_count": null,
      "outputs": []
    },
    {
      "cell_type": "code",
      "metadata": {
        "id": "dS5g7pJew_Bq"
      },
      "source": [
        "import os\n",
        "import gc\n",
        "import numpy as np\n",
        "import pandas as pd\n",
        "import matplotlib.pyplot as plt\n",
        "from tqdm import tqdm\n",
        "from matplotlib import cm\n",
        "import tqdm.notebook as tq\n",
        "\n",
        "# Tensorflow\n",
        "import tensorflow as tf\n",
        "import tensorflow_addons as tfa\n",
        "import tensorflow_text as text\n",
        "import tensorflow_hub as hub\n",
        "from tensorflow import keras\n",
        "from tensorflow.keras import layers\n",
        "from tensorflow.keras.losses import Loss, BinaryCrossentropy\n",
        "from keras.utils import plot_model\n",
        "import tensorflow_datasets as tfds\n",
        "from tensorflow.image import resize, ResizeMethod \n",
        "from tensorflow.data import Dataset\n",
        "from tensorflow.keras import Sequential\n",
        "from tensorflow.keras.layers import Dense, Conv2D, Dropout, Flatten, MaxPool2D, \\\n",
        "                                    BatchNormalization, GlobalAveragePooling2D, Lambda, \\\n",
        "                                    Embedding, GlobalAveragePooling1D, Concatenate, LSTM, \\\n",
        "                                    Bidirectional, Input, Reshape\n",
        "from tensorflow.keras.regularizers import L2\n",
        "from tensorflow.keras.preprocessing.text import Tokenizer\n",
        "from tensorflow.keras.layers.experimental.preprocessing import Resizing, TextVectorization\n",
        "from tensorflow.keras.preprocessing.sequence import pad_sequences\n",
        "from tensorflow.keras.optimizers import Adam, SGD\n",
        "from tensorflow.keras.layers.experimental.preprocessing import RandomFlip, RandomRotation, RandomTranslation\n",
        "from tensorflow.keras.applications import   VGG19, vgg19, VGG16, vgg16, InceptionV3, inception_v3, \\\n",
        "                                            Xception, xception\n",
        "from tensorflow.keras.metrics import Accuracy\n",
        "from tensorflow.keras.models import Model, load_model\n",
        "from tensorflow.python.keras.utils.layer_utils import count_params\n",
        "from tensorflow.keras.callbacks import ReduceLROnPlateau\n",
        "\n",
        "# sklearn\n",
        "from sklearn.metrics import f1_score, classification_report\n",
        "from sklearn.model_selection import train_test_split\n",
        "from sklearn.utils.class_weight import compute_sample_weight"
      ],
      "execution_count": 1,
      "outputs": []
    },
    {
      "cell_type": "markdown",
      "metadata": {
        "id": "ZzhXvdEyU9ZN"
      },
      "source": [
        "## Downloading data from drive"
      ]
    },
    {
      "cell_type": "code",
      "metadata": {
        "id": "rpFeI0UhPr3S"
      },
      "source": [
        "data_path = '/content/drive/MyDrive/IIT Palakkad/Sem-6/Deep Learning/Project/cache/'\n",
        "model_path = '/content/drive/MyDrive/IIT Palakkad/Sem-6/Deep Learning/Project/Models/'"
      ],
      "execution_count": 2,
      "outputs": []
    },
    {
      "cell_type": "code",
      "metadata": {
        "id": "6zDLosWmuq3D"
      },
      "source": [
        "labels = np.array(['person', 'bird', 'cat', 'cow', 'dog', 'horse',\n",
        "              'sheep', 'aeroplane', 'bicycle', 'boat', 'bus', 'car',\n",
        "              'motorbike', 'train', 'bottle', 'chair', 'dining table',\n",
        "              'potted plant', 'sofa', 'tv/monitor'])\n",
        "\n",
        "get_resized_images = True\n",
        "\n",
        "if get_resized_images:\n",
        "    abstract_images = np.load(data_path + 'abstract_images_resized.npy', allow_pickle=True)\n",
        "else:\n",
        "    abstract_images = np.load(data_path + 'abstract_images.npy', allow_pickle=True)\n",
        "abstract_images = abstract_images[:, :, :, :3]\n",
        "\n",
        "if get_resized_images:\n",
        "    pascal_images = np.load(data_path + 'pascal_images_resized.npy', allow_pickle=True)\n",
        "else:\n",
        "    pascal_images = np.load(data_path + 'pascal_images.npy', allow_pickle=True)\n",
        "\n",
        "abstract_targets = np.load(data_path + 'abstract_targets.npy', allow_pickle=True)\n",
        "pascal_targets = np.load(data_path + 'pascal_targets.npy', allow_pickle=True)\n",
        "\n",
        "abstract_annots_concat = np.load(data_path + 'abstract_annots_concat.npy', allow_pickle=True)\n",
        "pascal_annots_concat = np.load(data_path + 'pascal_annots_concat.npy', allow_pickle=True)"
      ],
      "execution_count": 3,
      "outputs": []
    },
    {
      "cell_type": "markdown",
      "metadata": {
        "id": "zFRgh5IUVB0-"
      },
      "source": [
        "### Reshape input data if required"
      ]
    },
    {
      "cell_type": "code",
      "metadata": {
        "id": "fx3Q4pa_aY21"
      },
      "source": [
        "\"\"\"Input shape for the CNN\"\"\"\n",
        "input_shape=(224, 224, 3)\n",
        "\n",
        "def resize_images(dataset):\n",
        "    ls = []\n",
        "    for img in tqdm(dataset):\n",
        "        img = resize(img, size=input_shape[0:2], method=ResizeMethod.AREA)\n",
        "        ls.append(img)\n",
        "    return np.array(ls)\n",
        "\n",
        "if not get_resized_images:\n",
        "    pascal_images = resize_images(pascal_images)\n",
        "    abstract_images = resize_images(abstract_images)\n",
        "    np.save(data_path + 'abstract_images_resized.npy', abstract_images)\n",
        "    np.save(data_path + 'pascal_images_resized.npy', pascal_images)\n",
        "  \n",
        "full_images = tf.convert_to_tensor(np.append(abstract_images, pascal_images, axis=0))\n",
        "full_annots = tf.convert_to_tensor(np.append(abstract_annots_concat, pascal_annots_concat, axis=0), dtype=tf.string)\n",
        "full_targets = tf.convert_to_tensor(np.append(abstract_targets, pascal_targets, axis=0))\n",
        "\n",
        "del abstract_images\n",
        "del pascal_images\n",
        "del abstract_targets\n",
        "del pascal_targets\n",
        "del abstract_annots_concat\n",
        "del pascal_annots_concat"
      ],
      "execution_count": 4,
      "outputs": []
    },
    {
      "cell_type": "markdown",
      "metadata": {
        "id": "zlya8AiVK7B0"
      },
      "source": [
        "## Functions necessary for model building"
      ]
    },
    {
      "cell_type": "code",
      "metadata": {
        "id": "1AFrihrUPCJI"
      },
      "source": [
        "def get_text_model(vocab_size=2000, embedding_dim=128, output_sequence_length=350):\n",
        "    \"\"\"\n",
        "    A basic model for learning text embeddings.\n",
        "    \"\"\"\n",
        "    input = Input(shape=(), name=\"text_model_input\", dtype='string')\n",
        "    vectorize_layer = TextVectorization(\n",
        "                        max_tokens=vocab_size,\n",
        "                        output_mode='int',\n",
        "                        output_sequence_length=output_sequence_length)(input)\n",
        "    x = Embedding(vocab_size, embedding_dim)(vectorize_layer)\n",
        "    x = Bidirectional(LSTM(embedding_dim))(x)\n",
        "    model = Model(input, x)\n",
        "    return model\n",
        "\n",
        "def get_bert_model(trainable=False):\n",
        "    \"\"\"\n",
        "    BERT to learn the embeddings\n",
        "    \"\"\"\n",
        "    text_input = Input(shape=(), dtype=tf.string, name='text_model_input')\n",
        "    encoder_inputs = preprocessing_layer(text_input)\n",
        "    outputs = encoder(encoder_inputs)\n",
        "    net = outputs['pooled_output']\n",
        "    return tf.keras.Model(text_input, net)\n",
        "\n",
        "def get_cnn_model(pre_trained, shape=(224, 224, 3), allow_train_from=None):\n",
        "    pre_trained.layers[0]._name = \"cnn_model_input\"\n",
        "    if allow_train_from is not None:\n",
        "        \"\"\"Fine tune the pretrained model if needed.\"\"\"\n",
        "        layer_names = [layer.name for layer in pre_trained.layers]\n",
        "        idx = layer_names.index(allow_train_from)\n",
        "        for (i, layer) in enumerate(pre_trained.layers[:idx]):\n",
        "            pre_trained.layers[i].trainable = False\n",
        "    else:\n",
        "        pre_trained.trainable = False\n",
        "    return Model(inputs=pre_trained.input, outputs=pre_trained.output)\n",
        "\n",
        "def tokenize(texts, num_words=2000, maxlen=300):\n",
        "    \"\"\"Tokenizer\"\"\"\n",
        "    tokenizer = Tokenizer(num_words=num_words)\n",
        "    tokenizer.fit_on_texts(texts)\n",
        "    sequences = tokenizer.texts_to_sequences(texts)\n",
        "    abstract = pad_sequences(sequences, maxlen=maxlen)\n",
        "    return abstract\n",
        "\n",
        "@tf.function\n",
        "def macro_f1(y, y_hat, thresh=0.5):\n",
        "    \"\"\"\n",
        "    Compute the macro F1-score on a batch of observations (average F1 across labels)\n",
        "    \n",
        "    Arguments\n",
        "    ---------\n",
        "    y (int32 Tensor): labels array of shape (BATCH_SIZE, N_LABELS)\n",
        "    y_hat (float32 Tensor): probability matrix from forward propagation of shape (BATCH_SIZE, N_LABELS)\n",
        "    thresh: probability value above which we predict positive\n",
        "        \n",
        "    Returns\n",
        "    -------\n",
        "    macro_f1 (scalar Tensor): value of macro F1 for the batch\n",
        "    \"\"\"\n",
        "    y_pred = tf.cast(tf.greater(y_hat, thresh), tf.float32)\n",
        "    tp = tf.cast(tf.math.count_nonzero(y_pred * y, axis=0), tf.float32)\n",
        "    fp = tf.cast(tf.math.count_nonzero(y_pred * (1 - y), axis=0), tf.float32)\n",
        "    fn = tf.cast(tf.math.count_nonzero((1 - y_pred) * y, axis=0), tf.float32)\n",
        "    f1 = 2*tp / (2*tp + fn + fp + 1e-16)\n",
        "    macro_f1 = tf.reduce_mean(f1)\n",
        "    return macro_f1\n",
        "\n",
        "@tf.function\n",
        "def macro_soft_f1(y, y_hat):\n",
        "    \"\"\"\n",
        "    Compute the macro soft F1-score as a cost (average 1 - soft-F1 across all labels).\n",
        "    Use probability values instead of binary predictions.\n",
        "    \n",
        "    Arguments\n",
        "    ---------\n",
        "    y (int32 Tensor): targets array of shape (BATCH_SIZE, N_LABELS)\n",
        "    y_hat (float32 Tensor): probability matrix from forward propagation of shape (BATCH_SIZE, N_LABELS)\n",
        "        \n",
        "    Returns\n",
        "    -------\n",
        "    cost (scalar Tensor): value of the cost function for the batch\n",
        "    \"\"\"\n",
        "    y = tf.cast(y, tf.float32)\n",
        "    y_hat = tf.cast(y_hat, tf.float32)\n",
        "    tp = tf.reduce_sum(y_hat * y, axis=0)\n",
        "    fp = tf.reduce_sum(y_hat * (1 - y), axis=0)\n",
        "    fn = tf.reduce_sum((1 - y_hat) * y, axis=0)\n",
        "    soft_f1 = 2*tp / (2*tp + fn + fp + 1e-16)\n",
        "    cost = 1 - soft_f1\n",
        "    macro_cost = tf.reduce_mean(cost)\n",
        "    return macro_cost"
      ],
      "execution_count": 5,
      "outputs": []
    },
    {
      "cell_type": "markdown",
      "metadata": {
        "id": "2LWUBC0tVZBE"
      },
      "source": [
        "## Load pretrained models"
      ]
    },
    {
      "cell_type": "markdown",
      "metadata": {
        "id": "WC-hyCLq_C6i"
      },
      "source": [
        "### Inception V3"
      ]
    },
    {
      "cell_type": "code",
      "metadata": {
        "id": "pttYdgmK_FAg"
      },
      "source": [
        "\"\"\"The model\"\"\"\n",
        "pre_trained = InceptionV3(include_top = False, input_shape=input_shape, weights = 'imagenet', pooling='avg')\n",
        "\"\"\"The preprocessing layout.\"\"\"\n",
        "input_preprocessor = inception_v3.preprocess_input"
      ],
      "execution_count": 6,
      "outputs": []
    },
    {
      "cell_type": "markdown",
      "metadata": {
        "id": "pqsqHxx5Vajx"
      },
      "source": [
        "### BERT from Tensorflow Hub"
      ]
    },
    {
      "cell_type": "code",
      "metadata": {
        "id": "X1s84--DVTOl"
      },
      "source": [
        "if 'preprocessing_layer' in globals():\n",
        "        del preprocessing_layer\n",
        "if 'encoder' in globals():\n",
        "        del encoder\n",
        "\n",
        "def load_bert_model(trainable):\n",
        "    \"\"\"Load the BERT model from tensorflow hub.\"\"\"\n",
        "    tfhub_handle_preprocess = \"https://tfhub.dev/tensorflow/bert_en_uncased_preprocess/3\"\n",
        "    tfhub_handle_encoder = \"https://tfhub.dev/tensorflow/bert_en_uncased_L-12_H-768_A-12/4\"\n",
        "    global preprocessing_layer\n",
        "    preprocessing_layer = hub.KerasLayer(tfhub_handle_preprocess, name='preprocessing')\n",
        "    global encoder\n",
        "    encoder = hub.KerasLayer(tfhub_handle_encoder, trainable=trainable, name='BERT_encoder')\n",
        "\n",
        "load_bert_model(trainable=True)"
      ],
      "execution_count": null,
      "outputs": []
    },
    {
      "cell_type": "markdown",
      "metadata": {
        "id": "UIYfMYNIUnIH"
      },
      "source": [
        "## Preprocessing and Data Preparation"
      ]
    },
    {
      "cell_type": "code",
      "metadata": {
        "id": "1PICIguZLIWF",
        "colab": {
          "base_uri": "https://localhost:8080/",
          "height": 66,
          "referenced_widgets": [
            "e42ceffda8f14529b58be34bc8a222e3",
            "a4687a28c2224a46a34abf2542b3c34b",
            "bc1f555df01b4174b533497184c86f3a",
            "241930f8110d4b95bade2be27118faae",
            "1e1e20c130f54c749640de54d5b13e9e",
            "4e7e075b285644188ca155bf185eb04f",
            "2d3b2354287e42a69b6a1d3f3c41d497",
            "0963c09750c84e2fbb45824c54c1022f"
          ]
        },
        "outputId": "76cb736f-8ee0-488e-c4ae-082ff9b305a6"
      },
      "source": [
        "images_indices = list(range(full_images.shape[0]))\n",
        "images = []\n",
        "annotations = []\n",
        "targets = []\n",
        "\n",
        "for idx, annots in tq.tqdm(zip(images_indices, full_annots), total=len(images_indices)):\n",
        "    annots_split = list(tf.strings.split(annots, sep='. ').numpy())\n",
        "    n = len(annots_split)\n",
        "    images.extend([idx] * n)\n",
        "    annotations.extend(annots_split[:n])\n",
        "\n",
        "images = images\n",
        "annotations = tf.convert_to_tensor(annotations)"
      ],
      "execution_count": 7,
      "outputs": [
        {
          "output_type": "display_data",
          "data": {
            "application/vnd.jupyter.widget-view+json": {
              "model_id": "e42ceffda8f14529b58be34bc8a222e3",
              "version_minor": 0,
              "version_major": 2
            },
            "text/plain": [
              "HBox(children=(FloatProgress(value=0.0, max=1500.0), HTML(value='')))"
            ]
          },
          "metadata": {
            "tags": []
          }
        },
        {
          "output_type": "stream",
          "text": [
            "\n"
          ],
          "name": "stdout"
        }
      ]
    },
    {
      "cell_type": "code",
      "metadata": {
        "id": "cjwyritwMvqR"
      },
      "source": [
        "def preprocess_image(img):\n",
        "    img = tf.expand_dims(img, axis=0)\n",
        "    preprocessed = input_preprocessor(img)\n",
        "    cnn_feature = pre_trained(preprocessed)\n",
        "    return tf.squeeze(cnn_feature)\n",
        "\n",
        "def preprocess_images(images):\n",
        "    features = []\n",
        "    for x in tq.tqdm(images, total=len(images)):\n",
        "        features.append(preprocess_image(x))\n",
        "    return tf.convert_to_tensor(features)"
      ],
      "execution_count": 8,
      "outputs": []
    },
    {
      "cell_type": "code",
      "metadata": {
        "colab": {
          "base_uri": "https://localhost:8080/",
          "height": 66,
          "referenced_widgets": [
            "6fed220feea548ff8a3c654a9f81b3c3",
            "17ef5f81fec84125a03eec0bb44d60f8",
            "ae7b292cfc4345ce9c0fef4481bd8cb7",
            "ce31e46245fa4c1fb0d5c8a120fa08ad",
            "9275c5bf6c884a7bb141ba1a280eaa76",
            "014d2cb25c824b35b54e639751cb3bee",
            "7e6ba2c5e44244e3a88d9cdb05c5dd97",
            "2eff06f43c48478098935c5799d05113"
          ]
        },
        "id": "uMErXrtTyxtt",
        "outputId": "8890d754-ab8b-4621-ef81-d654147fe521"
      },
      "source": [
        "cnn_features = preprocess_images(full_images)"
      ],
      "execution_count": 9,
      "outputs": [
        {
          "output_type": "display_data",
          "data": {
            "application/vnd.jupyter.widget-view+json": {
              "model_id": "6fed220feea548ff8a3c654a9f81b3c3",
              "version_minor": 0,
              "version_major": 2
            },
            "text/plain": [
              "HBox(children=(FloatProgress(value=0.0, max=1500.0), HTML(value='')))"
            ]
          },
          "metadata": {
            "tags": []
          }
        },
        {
          "output_type": "stream",
          "text": [
            "\n"
          ],
          "name": "stdout"
        }
      ]
    },
    {
      "cell_type": "markdown",
      "metadata": {
        "id": "JDDK7vZVUrwO"
      },
      "source": [
        "### Convert the dataset as tensorflow datasets"
      ]
    },
    {
      "cell_type": "code",
      "metadata": {
        "id": "d2Nh9yNUiJPt"
      },
      "source": [
        "BATCH_SIZE = 32\n",
        "MAX_EPOCHS = 500\n",
        "DATASET_SIZE = len(images)\n",
        "TRAIN_SIZE = int(0.8 * DATASET_SIZE)\n",
        "TEST_SIZE = int(0.2 * DATASET_SIZE)"
      ],
      "execution_count": 10,
      "outputs": []
    },
    {
      "cell_type": "code",
      "metadata": {
        "id": "kbWftHkfN7wY"
      },
      "source": [
        "def map_func(ind, img_ind):\n",
        "    return ({\n",
        "        'text_model_input': annotations[ind],\n",
        "        'cnn_model_input': cnn_features[img_ind],\n",
        "        'original_images': full_images[img_ind]\n",
        "    }, full_targets[img_ind])\n",
        "\n",
        "temp_dataset = tf.data.Dataset.from_tensor_slices((np.array(range(len(images))), images)).shuffle(buffer_size=1000)\n",
        "full_dataset = temp_dataset.map(map_func, num_parallel_calls=tf.data.AUTOTUNE).prefetch(buffer_size=tf.data.AUTOTUNE)"
      ],
      "execution_count": 11,
      "outputs": []
    },
    {
      "cell_type": "markdown",
      "metadata": {
        "id": "gOvpTDStUzGi"
      },
      "source": [
        "### Train test split of the dataset"
      ]
    },
    {
      "cell_type": "code",
      "metadata": {
        "id": "qUD3M03Tih30"
      },
      "source": [
        "train_dataset = full_dataset.take(TRAIN_SIZE).batch(BATCH_SIZE)\n",
        "test_dataset = full_dataset.skip(TRAIN_SIZE).take(TEST_SIZE).batch(BATCH_SIZE)"
      ],
      "execution_count": 12,
      "outputs": []
    },
    {
      "cell_type": "markdown",
      "metadata": {
        "id": "0m9m7RmgU2Et"
      },
      "source": [
        "### Dataset distribution"
      ]
    },
    {
      "cell_type": "code",
      "metadata": {
        "colab": {
          "base_uri": "https://localhost:8080/",
          "height": 669
        },
        "id": "4A-ddYz7Lrqd",
        "outputId": "e63d3d15-4a47-4776-ba48-bccfeb667b27"
      },
      "source": [
        "class_weights = tf.math.reduce_sum(full_targets, axis=0)\n",
        "df = pd.DataFrame(class_weights, columns=[\"Count\"])\n",
        "df.index = labels\n",
        "del full_images\n",
        "del full_annots\n",
        "del full_targets\n",
        "del images\n",
        "del annotations\n",
        "del cnn_features\n",
        "df"
      ],
      "execution_count": 13,
      "outputs": [
        {
          "output_type": "execute_result",
          "data": {
            "text/html": [
              "<div>\n",
              "<style scoped>\n",
              "    .dataframe tbody tr th:only-of-type {\n",
              "        vertical-align: middle;\n",
              "    }\n",
              "\n",
              "    .dataframe tbody tr th {\n",
              "        vertical-align: top;\n",
              "    }\n",
              "\n",
              "    .dataframe thead th {\n",
              "        text-align: right;\n",
              "    }\n",
              "</style>\n",
              "<table border=\"1\" class=\"dataframe\">\n",
              "  <thead>\n",
              "    <tr style=\"text-align: right;\">\n",
              "      <th></th>\n",
              "      <th>Count</th>\n",
              "    </tr>\n",
              "  </thead>\n",
              "  <tbody>\n",
              "    <tr>\n",
              "      <th>person</th>\n",
              "      <td>1096</td>\n",
              "    </tr>\n",
              "    <tr>\n",
              "      <th>bird</th>\n",
              "      <td>107</td>\n",
              "    </tr>\n",
              "    <tr>\n",
              "      <th>cat</th>\n",
              "      <td>129</td>\n",
              "    </tr>\n",
              "    <tr>\n",
              "      <th>cow</th>\n",
              "      <td>59</td>\n",
              "    </tr>\n",
              "    <tr>\n",
              "      <th>dog</th>\n",
              "      <td>206</td>\n",
              "    </tr>\n",
              "    <tr>\n",
              "      <th>horse</th>\n",
              "      <td>60</td>\n",
              "    </tr>\n",
              "    <tr>\n",
              "      <th>sheep</th>\n",
              "      <td>57</td>\n",
              "    </tr>\n",
              "    <tr>\n",
              "      <th>aeroplane</th>\n",
              "      <td>111</td>\n",
              "    </tr>\n",
              "    <tr>\n",
              "      <th>bicycle</th>\n",
              "      <td>62</td>\n",
              "    </tr>\n",
              "    <tr>\n",
              "      <th>boat</th>\n",
              "      <td>58</td>\n",
              "    </tr>\n",
              "    <tr>\n",
              "      <th>bus</th>\n",
              "      <td>63</td>\n",
              "    </tr>\n",
              "    <tr>\n",
              "      <th>car</th>\n",
              "      <td>135</td>\n",
              "    </tr>\n",
              "    <tr>\n",
              "      <th>motorbike</th>\n",
              "      <td>108</td>\n",
              "    </tr>\n",
              "    <tr>\n",
              "      <th>train</th>\n",
              "      <td>65</td>\n",
              "    </tr>\n",
              "    <tr>\n",
              "      <th>bottle</th>\n",
              "      <td>68</td>\n",
              "    </tr>\n",
              "    <tr>\n",
              "      <th>chair</th>\n",
              "      <td>125</td>\n",
              "    </tr>\n",
              "    <tr>\n",
              "      <th>dining table</th>\n",
              "      <td>243</td>\n",
              "    </tr>\n",
              "    <tr>\n",
              "      <th>potted plant</th>\n",
              "      <td>62</td>\n",
              "    </tr>\n",
              "    <tr>\n",
              "      <th>sofa</th>\n",
              "      <td>74</td>\n",
              "    </tr>\n",
              "    <tr>\n",
              "      <th>tv/monitor</th>\n",
              "      <td>66</td>\n",
              "    </tr>\n",
              "  </tbody>\n",
              "</table>\n",
              "</div>"
            ],
            "text/plain": [
              "              Count\n",
              "person         1096\n",
              "bird            107\n",
              "cat             129\n",
              "cow              59\n",
              "dog             206\n",
              "horse            60\n",
              "sheep            57\n",
              "aeroplane       111\n",
              "bicycle          62\n",
              "boat             58\n",
              "bus              63\n",
              "car             135\n",
              "motorbike       108\n",
              "train            65\n",
              "bottle           68\n",
              "chair           125\n",
              "dining table    243\n",
              "potted plant     62\n",
              "sofa             74\n",
              "tv/monitor       66"
            ]
          },
          "metadata": {
            "tags": []
          },
          "execution_count": 13
        }
      ]
    },
    {
      "cell_type": "markdown",
      "metadata": {
        "id": "lNREiE0RVOUt"
      },
      "source": [
        "### Exploring the dataset"
      ]
    },
    {
      "cell_type": "code",
      "metadata": {
        "colab": {
          "base_uri": "https://localhost:8080/",
          "height": 282
        },
        "id": "8fOtup99U9vr",
        "outputId": "9db91b7b-a110-4235-fb9a-88e8cff40363"
      },
      "source": [
        "index = np.random.randint(250, 400)\n",
        "for x, y in full_dataset.skip(index).take(1):\n",
        "    image = np.clip(x['original_images']/255., 0, 1)\n",
        "    idxs = y\n",
        "    annots = x['text_model_input']\n",
        "plt.imshow(image)\n",
        "plt.axis('off')\n",
        "print(labels[idxs.numpy() == 1])\n",
        "annots.numpy()"
      ],
      "execution_count": 20,
      "outputs": [
        {
          "output_type": "stream",
          "text": [
            "['person']\n"
          ],
          "name": "stdout"
        },
        {
          "output_type": "execute_result",
          "data": {
            "text/plain": [
              "b'Mike is jumping towards the bear'"
            ]
          },
          "metadata": {
            "tags": []
          },
          "execution_count": 20
        },
        {
          "output_type": "display_data",
          "data": {
            "image/png": "[encoded data removed]",
            "text/plain": [
              "<Figure size 432x288 with 1 Axes>"
            ]
          },
          "metadata": {
            "tags": [],
            "needs_background": "light"
          }
        }
      ]
    },
    {
      "cell_type": "markdown",
      "metadata": {
        "id": "_DY83G8jVmY4"
      },
      "source": [
        "## Build and train the final model"
      ]
    },
    {
      "cell_type": "code",
      "metadata": {
        "id": "zsnGPthgZrwT"
      },
      "source": [
        "text_model = get_text_model(embedding_dim=256)\n",
        "\n",
        "\n",
        "\"\"\"\n",
        "The input layer with the features extracted from pretrained InceptionV3\n",
        "\"\"\"\n",
        "input = Input(shape=(2048, ), name=\"cnn_model_input\")\n",
        "\n",
        "\"\"\"\n",
        "Concatenate image features with text features\n",
        "\"\"\"\n",
        "x = Concatenate()([text_model.output, input])\n",
        "\n",
        "x = Dense(512, activation=\"relu\", kernel_regularizer=L2(0.001))(x)\n",
        "x = Dropout(0.3)(x)\n",
        "x = BatchNormalization()(x)\n",
        "x = Dense(512, activation=\"relu\")(x)\n",
        "x = Dropout(0.3)(x)\n",
        "x = BatchNormalization()(x)\n",
        "x = Dense(128, activation=\"relu\", kernel_regularizer=L2(0.001))(x)\n",
        "x = Dropout(0.3)(x)\n",
        "x = BatchNormalization()(x)\n",
        "output = Dense(20, activation=\"sigmoid\")(x)\n",
        "\n",
        "\"\"\"\n",
        "Create the model.\n",
        "\"\"\"\n",
        "model = Model(inputs=[text_model.input, input], outputs=output)"
      ],
      "execution_count": 21,
      "outputs": []
    },
    {
      "cell_type": "code",
      "metadata": {
        "id": "0ru4W96mV1H8",
        "colab": {
          "base_uri": "https://localhost:8080/"
        },
        "outputId": "cc6c2775-f86e-476e-f135-5886355788e2"
      },
      "source": [
        "model.summary()"
      ],
      "execution_count": 22,
      "outputs": [
        {
          "output_type": "stream",
          "text": [
            "Model: \"model_3\"\n",
            "__________________________________________________________________________________________________\n",
            "Layer (type)                    Output Shape         Param #     Connected to                     \n",
            "==================================================================================================\n",
            "text_model_input (InputLayer)   [(None,)]            0                                            \n",
            "__________________________________________________________________________________________________\n",
            "text_vectorization_1 (TextVecto (None, 350)          0           text_model_input[0][0]           \n",
            "__________________________________________________________________________________________________\n",
            "embedding_1 (Embedding)         (None, 350, 256)     512000      text_vectorization_1[0][0]       \n",
            "__________________________________________________________________________________________________\n",
            "bidirectional_1 (Bidirectional) (None, 512)          1050624     embedding_1[0][0]                \n",
            "__________________________________________________________________________________________________\n",
            "cnn_model_input (InputLayer)    [(None, 2048)]       0                                            \n",
            "__________________________________________________________________________________________________\n",
            "concatenate_3 (Concatenate)     (None, 2560)         0           bidirectional_1[0][0]            \n",
            "                                                                 cnn_model_input[0][0]            \n",
            "__________________________________________________________________________________________________\n",
            "dense_4 (Dense)                 (None, 512)          1311232     concatenate_3[0][0]              \n",
            "__________________________________________________________________________________________________\n",
            "dropout_3 (Dropout)             (None, 512)          0           dense_4[0][0]                    \n",
            "__________________________________________________________________________________________________\n",
            "batch_normalization_97 (BatchNo (None, 512)          2048        dropout_3[0][0]                  \n",
            "__________________________________________________________________________________________________\n",
            "dense_5 (Dense)                 (None, 512)          262656      batch_normalization_97[0][0]     \n",
            "__________________________________________________________________________________________________\n",
            "dropout_4 (Dropout)             (None, 512)          0           dense_5[0][0]                    \n",
            "__________________________________________________________________________________________________\n",
            "batch_normalization_98 (BatchNo (None, 512)          2048        dropout_4[0][0]                  \n",
            "__________________________________________________________________________________________________\n",
            "dense_6 (Dense)                 (None, 128)          65664       batch_normalization_98[0][0]     \n",
            "__________________________________________________________________________________________________\n",
            "dropout_5 (Dropout)             (None, 128)          0           dense_6[0][0]                    \n",
            "__________________________________________________________________________________________________\n",
            "batch_normalization_99 (BatchNo (None, 128)          512         dropout_5[0][0]                  \n",
            "__________________________________________________________________________________________________\n",
            "dense_7 (Dense)                 (None, 20)           2580        batch_normalization_99[0][0]     \n",
            "==================================================================================================\n",
            "Total params: 3,209,364\n",
            "Trainable params: 3,207,060\n",
            "Non-trainable params: 2,304\n",
            "__________________________________________________________________________________________________\n"
          ],
          "name": "stdout"
        }
      ]
    },
    {
      "cell_type": "code",
      "metadata": {
        "id": "tDTIROj4o_Y0"
      },
      "source": [
        "model.compile(optimizer=Adam(learning_rate=0.01), loss=macro_soft_f1, metrics=[macro_f1])"
      ],
      "execution_count": 23,
      "outputs": []
    },
    {
      "cell_type": "code",
      "metadata": {
        "colab": {
          "base_uri": "https://localhost:8080/",
          "height": 1000
        },
        "id": "FLqiN7yzAMwB",
        "outputId": "2309a0eb-b409-4995-aa9b-071290e61bc4"
      },
      "source": [
        "plot_model(model, to_file='{}task2.png'.format(model_path), show_shapes=True)"
      ],
      "execution_count": 19,
      "outputs": [
        {
          "output_type": "execute_result",
          "data": {
            "image/png": "[encoded data removed]",
            "text/plain": [
              "<IPython.core.display.Image object>"
            ]
          },
          "metadata": {
            "tags": []
          },
          "execution_count": 19
        }
      ]
    },
    {
      "cell_type": "code",
      "metadata": {
        "colab": {
          "base_uri": "https://localhost:8080/"
        },
        "id": "TkdSEsXayB87",
        "outputId": "8aa1f4cb-b20d-4f09-b183-d572e38610fa"
      },
      "source": [
        "class ModelSaver(tf.keras.callbacks.Callback):\n",
        "\n",
        "  def __init__(self, save_path):\n",
        "    super(ModelSaver, self).__init__()\n",
        "    self.save_path = save_path\n",
        "    self.best_model = None\n",
        "    self.best = np.Inf\n",
        "\n",
        "  def on_epoch_end(self, epoch, logs):\n",
        "    gc.collect()\n",
        "    val_loss = logs.get(\"val_loss\")\n",
        "    if np.less(val_loss, self.best):\n",
        "      self.best = val_loss\n",
        "      self.best_model = self.model\n",
        "\n",
        "    \n",
        "  def on_train_end(self, logs=None):\n",
        "    if self.best_model is not None and self.save_path is not None:\n",
        "      print(\"Saving the best model.\")   \n",
        "      self.best_model.save(self.save_path, save_format='tf')\n",
        "      print(\"Best model saved to {}\".format(self.save_path))\n",
        "\n",
        "es = keras.callbacks.EarlyStopping(patience=10, restore_best_weights=True, verbose=True)\n",
        "cp = ModelSaver('{}model2'.format(model_path))\n",
        "reduce_lr = ReduceLROnPlateau(monitor='val_loss', factor=0.2,\n",
        "                              patience=5, min_lr=0.001)\n",
        "\n",
        "history = model.fit(train_dataset, validation_data=test_dataset, epochs=50, callbacks=[es, cp, reduce_lr], class_weight=dict(zip(range(len(labels)), class_weights.numpy())))"
      ],
      "execution_count": 25,
      "outputs": [
        {
          "output_type": "stream",
          "text": [
            "Epoch 1/50\n",
            "188/188 [==============================] - 17s 93ms/step - loss: 575.7554 - macro_f1: 0.3862 - val_loss: 14.2827 - val_macro_f1: 0.5055\n",
            "Epoch 2/50\n",
            "188/188 [==============================] - 17s 92ms/step - loss: 543.9774 - macro_f1: 0.4281 - val_loss: 13.7241 - val_macro_f1: 0.5600\n",
            "Epoch 3/50\n",
            "188/188 [==============================] - 17s 92ms/step - loss: 533.1660 - macro_f1: 0.4339 - val_loss: 13.3231 - val_macro_f1: 0.5695\n",
            "Epoch 4/50\n",
            "188/188 [==============================] - 17s 92ms/step - loss: 521.9234 - macro_f1: 0.4509 - val_loss: 12.9436 - val_macro_f1: 0.5861\n",
            "Epoch 5/50\n",
            "188/188 [==============================] - 18s 94ms/step - loss: 510.1174 - macro_f1: 0.4647 - val_loss: 12.6703 - val_macro_f1: 0.5560\n",
            "Epoch 6/50\n",
            "188/188 [==============================] - 18s 93ms/step - loss: 503.9268 - macro_f1: 0.4715 - val_loss: 12.3598 - val_macro_f1: 0.5924\n",
            "Epoch 7/50\n",
            "188/188 [==============================] - 17s 92ms/step - loss: 495.3756 - macro_f1: 0.4790 - val_loss: 12.1151 - val_macro_f1: 0.5859\n",
            "Epoch 8/50\n",
            "188/188 [==============================] - 17s 92ms/step - loss: 493.0997 - macro_f1: 0.4815 - val_loss: 11.8743 - val_macro_f1: 0.6032\n",
            "Epoch 9/50\n",
            "188/188 [==============================] - 17s 92ms/step - loss: 481.7391 - macro_f1: 0.4964 - val_loss: 11.6633 - val_macro_f1: 0.6139\n",
            "Epoch 10/50\n",
            "188/188 [==============================] - 17s 92ms/step - loss: 480.0760 - macro_f1: 0.4950 - val_loss: 11.4819 - val_macro_f1: 0.6100\n",
            "Epoch 11/50\n",
            "188/188 [==============================] - 18s 93ms/step - loss: 473.5611 - macro_f1: 0.5034 - val_loss: 11.3512 - val_macro_f1: 0.5849\n",
            "Epoch 12/50\n",
            "188/188 [==============================] - 17s 92ms/step - loss: 471.8481 - macro_f1: 0.5052 - val_loss: 11.1806 - val_macro_f1: 0.6191\n",
            "Epoch 13/50\n",
            "188/188 [==============================] - 18s 93ms/step - loss: 464.0971 - macro_f1: 0.5150 - val_loss: 11.0546 - val_macro_f1: 0.6247\n",
            "Epoch 14/50\n",
            "188/188 [==============================] - 17s 92ms/step - loss: 465.1204 - macro_f1: 0.5116 - val_loss: 10.9627 - val_macro_f1: 0.6129\n",
            "Epoch 15/50\n",
            "188/188 [==============================] - 17s 92ms/step - loss: 459.7909 - macro_f1: 0.5167 - val_loss: 10.8541 - val_macro_f1: 0.6265\n",
            "Epoch 16/50\n",
            "188/188 [==============================] - 17s 92ms/step - loss: 448.5905 - macro_f1: 0.5310 - val_loss: 10.7673 - val_macro_f1: 0.6264\n",
            "Epoch 17/50\n",
            "188/188 [==============================] - 17s 93ms/step - loss: 459.3873 - macro_f1: 0.5197 - val_loss: 10.6621 - val_macro_f1: 0.6384\n",
            "Epoch 18/50\n",
            "188/188 [==============================] - 17s 93ms/step - loss: 451.7943 - macro_f1: 0.5267 - val_loss: 10.5942 - val_macro_f1: 0.6351\n",
            "Epoch 19/50\n",
            "188/188 [==============================] - 18s 94ms/step - loss: 448.9676 - macro_f1: 0.5305 - val_loss: 10.5255 - val_macro_f1: 0.6355\n",
            "Epoch 20/50\n",
            "188/188 [==============================] - 17s 92ms/step - loss: 442.8600 - macro_f1: 0.5363 - val_loss: 10.4970 - val_macro_f1: 0.5965\n",
            "Epoch 21/50\n",
            "188/188 [==============================] - 18s 94ms/step - loss: 446.8010 - macro_f1: 0.5325 - val_loss: 10.4097 - val_macro_f1: 0.6343\n",
            "Epoch 22/50\n",
            "188/188 [==============================] - 18s 94ms/step - loss: 449.7361 - macro_f1: 0.5297 - val_loss: 10.3505 - val_macro_f1: 0.6385\n",
            "Epoch 23/50\n",
            "188/188 [==============================] - 17s 92ms/step - loss: 447.7466 - macro_f1: 0.5339 - val_loss: 10.3024 - val_macro_f1: 0.6355\n",
            "Epoch 24/50\n",
            "188/188 [==============================] - 18s 94ms/step - loss: 438.4346 - macro_f1: 0.5417 - val_loss: 10.2386 - val_macro_f1: 0.6452\n",
            "Epoch 25/50\n",
            "188/188 [==============================] - 18s 94ms/step - loss: 437.7290 - macro_f1: 0.5434 - val_loss: 10.1999 - val_macro_f1: 0.6455\n",
            "Epoch 26/50\n",
            "188/188 [==============================] - 17s 93ms/step - loss: 437.9082 - macro_f1: 0.5434 - val_loss: 10.1421 - val_macro_f1: 0.6615\n",
            "Epoch 27/50\n",
            "188/188 [==============================] - 18s 93ms/step - loss: 430.1371 - macro_f1: 0.5502 - val_loss: 10.1267 - val_macro_f1: 0.6549\n",
            "Epoch 28/50\n",
            "188/188 [==============================] - 17s 92ms/step - loss: 439.2070 - macro_f1: 0.5435 - val_loss: 10.1068 - val_macro_f1: 0.6337\n",
            "Epoch 29/50\n",
            "188/188 [==============================] - 18s 93ms/step - loss: 439.9815 - macro_f1: 0.5412 - val_loss: 10.0341 - val_macro_f1: 0.6531\n",
            "Epoch 30/50\n",
            "188/188 [==============================] - 18s 93ms/step - loss: 436.3550 - macro_f1: 0.5437 - val_loss: 9.9870 - val_macro_f1: 0.6558\n",
            "Epoch 31/50\n",
            "188/188 [==============================] - 18s 94ms/step - loss: 432.0618 - macro_f1: 0.5481 - val_loss: 9.9654 - val_macro_f1: 0.6521\n",
            "Epoch 32/50\n",
            "188/188 [==============================] - 17s 93ms/step - loss: 431.4048 - macro_f1: 0.5507 - val_loss: 9.9239 - val_macro_f1: 0.6410\n",
            "Epoch 33/50\n",
            "188/188 [==============================] - 18s 94ms/step - loss: 434.3065 - macro_f1: 0.5482 - val_loss: 9.8361 - val_macro_f1: 0.6757\n",
            "Epoch 34/50\n",
            "188/188 [==============================] - 17s 93ms/step - loss: 434.0418 - macro_f1: 0.5456 - val_loss: 9.8229 - val_macro_f1: 0.6474\n",
            "Epoch 35/50\n",
            "188/188 [==============================] - 18s 94ms/step - loss: 429.1387 - macro_f1: 0.5518 - val_loss: 9.7748 - val_macro_f1: 0.6468\n",
            "Epoch 36/50\n",
            "188/188 [==============================] - 18s 93ms/step - loss: 428.0205 - macro_f1: 0.5547 - val_loss: 9.7347 - val_macro_f1: 0.6350\n",
            "Epoch 37/50\n",
            "188/188 [==============================] - 18s 94ms/step - loss: 429.3000 - macro_f1: 0.5521 - val_loss: 9.6847 - val_macro_f1: 0.6575\n",
            "Epoch 38/50\n",
            "188/188 [==============================] - 17s 93ms/step - loss: 425.3844 - macro_f1: 0.5560 - val_loss: 9.6371 - val_macro_f1: 0.6556\n",
            "Epoch 39/50\n",
            "188/188 [==============================] - 18s 93ms/step - loss: 426.5334 - macro_f1: 0.5558 - val_loss: 9.5649 - val_macro_f1: 0.6642\n",
            "Epoch 40/50\n",
            "188/188 [==============================] - 17s 93ms/step - loss: 429.8993 - macro_f1: 0.5505 - val_loss: 9.5450 - val_macro_f1: 0.6435\n",
            "Epoch 41/50\n",
            "188/188 [==============================] - 18s 93ms/step - loss: 426.4869 - macro_f1: 0.5551 - val_loss: 9.4905 - val_macro_f1: 0.6484\n",
            "Epoch 42/50\n",
            "188/188 [==============================] - 18s 93ms/step - loss: 421.0285 - macro_f1: 0.5614 - val_loss: 9.4303 - val_macro_f1: 0.6659\n",
            "Epoch 43/50\n",
            "188/188 [==============================] - 18s 94ms/step - loss: 423.0664 - macro_f1: 0.5568 - val_loss: 9.3934 - val_macro_f1: 0.6440\n",
            "Epoch 44/50\n",
            "188/188 [==============================] - 17s 93ms/step - loss: 420.6273 - macro_f1: 0.5599 - val_loss: 9.3313 - val_macro_f1: 0.6479\n",
            "Epoch 45/50\n",
            "188/188 [==============================] - 18s 94ms/step - loss: 411.7745 - macro_f1: 0.5720 - val_loss: 9.2803 - val_macro_f1: 0.6606\n",
            "Epoch 46/50\n",
            "188/188 [==============================] - 18s 93ms/step - loss: 405.2755 - macro_f1: 0.5780 - val_loss: 9.2438 - val_macro_f1: 0.6619\n",
            "Epoch 47/50\n",
            "188/188 [==============================] - 18s 93ms/step - loss: 426.1148 - macro_f1: 0.5518 - val_loss: 9.2136 - val_macro_f1: 0.6463\n",
            "Epoch 48/50\n",
            "188/188 [==============================] - 18s 93ms/step - loss: 419.0209 - macro_f1: 0.5618 - val_loss: 9.1555 - val_macro_f1: 0.6653\n",
            "Epoch 49/50\n",
            "188/188 [==============================] - 18s 94ms/step - loss: 423.0187 - macro_f1: 0.5569 - val_loss: 9.1829 - val_macro_f1: 0.6044\n",
            "Epoch 50/50\n",
            "188/188 [==============================] - 17s 93ms/step - loss: 417.3578 - macro_f1: 0.5637 - val_loss: 9.1031 - val_macro_f1: 0.6483\n",
            "Saving the best model.\n"
          ],
          "name": "stdout"
        },
        {
          "output_type": "stream",
          "text": [
            "WARNING:absl:Found untraced functions such as lstm_cell_4_layer_call_and_return_conditional_losses, lstm_cell_4_layer_call_fn, lstm_cell_5_layer_call_and_return_conditional_losses, lstm_cell_5_layer_call_fn, lstm_cell_4_layer_call_fn while saving (showing 5 of 10). These functions will not be directly callable after loading.\n",
            "WARNING:absl:Found untraced functions such as lstm_cell_4_layer_call_and_return_conditional_losses, lstm_cell_4_layer_call_fn, lstm_cell_5_layer_call_and_return_conditional_losses, lstm_cell_5_layer_call_fn, lstm_cell_4_layer_call_fn while saving (showing 5 of 10). These functions will not be directly callable after loading.\n"
          ],
          "name": "stderr"
        },
        {
          "output_type": "stream",
          "text": [
            "INFO:tensorflow:Assets written to: /content/drive/MyDrive/IIT Palakkad/Sem-6/Deep Learning/Project/Models/model2/assets\n"
          ],
          "name": "stdout"
        },
        {
          "output_type": "stream",
          "text": [
            "INFO:tensorflow:Assets written to: /content/drive/MyDrive/IIT Palakkad/Sem-6/Deep Learning/Project/Models/model2/assets\n"
          ],
          "name": "stderr"
        },
        {
          "output_type": "stream",
          "text": [
            "Best model saved to /content/drive/MyDrive/IIT Palakkad/Sem-6/Deep Learning/Project/Models/model2\n"
          ],
          "name": "stdout"
        }
      ]
    },
    {
      "cell_type": "markdown",
      "metadata": {
        "id": "f6kNiDOspGjq"
      },
      "source": [
        "<b>Note:</b>  \n",
        "The reason for validation accuracy to be higher might be due to dropout.  \n",
        "Training loss is also very high when compared to the validation loss because of the class_weight parameter. See [link](https://github.com/tensorflow/tensorflow/issues/42647) for reference.  \n",
        "The below code section shows that tensorflow does not include class_weights during validation.\n"
      ]
    },
    {
      "cell_type": "code",
      "metadata": {
        "id": "bJ7ssecKHtxN"
      },
      "source": [
        "model.save('{}model2'.format(model_path), save_format='tf')"
      ],
      "execution_count": null,
      "outputs": []
    },
    {
      "cell_type": "markdown",
      "metadata": {
        "id": "uJneK1sQpd2w"
      },
      "source": [
        "## Plotting the curves"
      ]
    },
    {
      "cell_type": "code",
      "metadata": {
        "colab": {
          "base_uri": "https://localhost:8080/",
          "height": 624
        },
        "id": "FtXmP4cApjEC",
        "outputId": "10ead44b-8d46-421e-f940-45b48e2ab158"
      },
      "source": [
        "fig, ax = plt.subplots(1, 2, figsize=(20, 10))\n",
        "\n",
        "history_ = history.history\n",
        "loss = history_.get('loss')\n",
        "f1 = history_.get('macro_f1')\n",
        "val_loss = history_.get('val_loss')\n",
        "val_f1 = history_.get('val_macro_f1')\n",
        "\n",
        "ax[0].set_title(\"Loss Curves\")\n",
        "ax[0].plot(loss/np.max(loss), label=\"train\")\n",
        "ax[0].plot(val_loss/np.max(val_loss), label=\"validation\")\n",
        "ax[0].legend()\n",
        "\n",
        "ax[1].set_title(\"F1-Score Curves\")\n",
        "ax[1].plot(f1, label=\"train\")\n",
        "ax[1].plot(val_f1, label=\"validation\")\n",
        "ax[1].legend()"
      ],
      "execution_count": 110,
      "outputs": [
        {
          "output_type": "execute_result",
          "data": {
            "text/plain": [
              "<matplotlib.legend.Legend at 0x7fd4c64c4190>"
            ]
          },
          "metadata": {
            "tags": []
          },
          "execution_count": 110
        },
        {
          "output_type": "display_data",
          "data": {
            "image/png": "[encoded data removed]",
            "text/plain": [
              "<Figure size 1440x720 with 2 Axes>"
            ]
          },
          "metadata": {
            "tags": [],
            "needs_background": "light"
          }
        }
      ]
    },
    {
      "cell_type": "markdown",
      "metadata": {
        "id": "2WzeQ_rPWpNR"
      },
      "source": [
        "## Testing the model"
      ]
    },
    {
      "cell_type": "markdown",
      "metadata": {
        "id": "l-xSN_SZWraX"
      },
      "source": [
        "### Predicting on the test dataset"
      ]
    },
    {
      "cell_type": "code",
      "metadata": {
        "id": "DvXQZ1PGWzpL",
        "colab": {
          "base_uri": "https://localhost:8080/",
          "height": 66,
          "referenced_widgets": [
            "786ac4d3046445dc8dc1d3c3458a96c6",
            "900e0c70c23b4178b6afc5cc460d4781",
            "ac715b99aba347b39c42e414687e08a0",
            "9cc0d0b44e914e019ca6ba62faf13d14",
            "ebbe70e311664185ac2c029fd636144a",
            "e5ecff9d9a854a158a124464bfbc1600",
            "ed554b0ac1c94befacff1fdf27f79fc9",
            "98dccffec9d14afabceed067dbdd85f3"
          ]
        },
        "outputId": "8d67b42a-2708-408a-8ff4-984c8acdea21"
      },
      "source": [
        "unbatched_test = test_dataset.unbatch()\n",
        "y_true = []\n",
        "texts = []\n",
        "feats = []\n",
        "for x, y in tq.tqdm(unbatched_test.as_numpy_iterator(), total=TEST_SIZE):\n",
        "    y_true.append(y)\n",
        "    texts.append(x['text_model_input'])\n",
        "    feats.append(x['cnn_model_input'])"
      ],
      "execution_count": 33,
      "outputs": [
        {
          "output_type": "display_data",
          "data": {
            "application/vnd.jupyter.widget-view+json": {
              "model_id": "786ac4d3046445dc8dc1d3c3458a96c6",
              "version_minor": 0,
              "version_major": 2
            },
            "text/plain": [
              "HBox(children=(FloatProgress(value=0.0, max=1500.0), HTML(value='')))"
            ]
          },
          "metadata": {
            "tags": []
          }
        },
        {
          "output_type": "stream",
          "text": [
            "\n"
          ],
          "name": "stdout"
        }
      ]
    },
    {
      "cell_type": "code",
      "metadata": {
        "id": "poamv8OdME8P"
      },
      "source": [
        "texts = tf.convert_to_tensor(texts)\n",
        "feats = tf.convert_to_tensor(feats)\n",
        "y_true = np.array(y_true)\n",
        "y_pred = model.predict([texts, feats])\n",
        "y_classes = np.where(y_pred > 0.5, 1, 0)\n",
        "del texts\n",
        "del feats"
      ],
      "execution_count": 34,
      "outputs": []
    },
    {
      "cell_type": "markdown",
      "metadata": {
        "id": "NNlQfcDLeDsb"
      },
      "source": [
        "### Evaluating on the train dataset"
      ]
    },
    {
      "cell_type": "code",
      "metadata": {
        "colab": {
          "base_uri": "https://localhost:8080/"
        },
        "id": "iW7TlrNNeGIr",
        "outputId": "a112a0e0-a337-4b93-fee4-a32edb50ea8a"
      },
      "source": [
        "model.evaluate(train_dataset)"
      ],
      "execution_count": 30,
      "outputs": [
        {
          "output_type": "stream",
          "text": [
            "188/188 [==============================] - 9s 30ms/step - loss: 9.1475 - macro_f1: 0.6057\n"
          ],
          "name": "stdout"
        },
        {
          "output_type": "execute_result",
          "data": {
            "text/plain": [
              "[9.147467613220215, 0.6057491302490234]"
            ]
          },
          "metadata": {
            "tags": []
          },
          "execution_count": 30
        }
      ]
    },
    {
      "cell_type": "markdown",
      "metadata": {
        "id": "0FtGeVzAeBcp"
      },
      "source": [
        "### Evaluating on the test dataset"
      ]
    },
    {
      "cell_type": "code",
      "metadata": {
        "colab": {
          "base_uri": "https://localhost:8080/"
        },
        "id": "i6wBIgERd2_z",
        "outputId": "66406f24-7e55-40f2-b987-14ed604a3a70"
      },
      "source": [
        "model.evaluate(test_dataset)"
      ],
      "execution_count": 31,
      "outputs": [
        {
          "output_type": "stream",
          "text": [
            "47/47 [==============================] - 5s 33ms/step - loss: 9.0768 - macro_f1: 0.6754\n"
          ],
          "name": "stdout"
        },
        {
          "output_type": "execute_result",
          "data": {
            "text/plain": [
              "[9.076810836791992, 0.6753981113433838]"
            ]
          },
          "metadata": {
            "tags": []
          },
          "execution_count": 31
        }
      ]
    },
    {
      "cell_type": "markdown",
      "metadata": {
        "id": "LlskClrbeL1j"
      },
      "source": [
        "### Evaluating on the complete dataset"
      ]
    },
    {
      "cell_type": "code",
      "metadata": {
        "id": "80PuJSpOOzEE",
        "colab": {
          "base_uri": "https://localhost:8080/"
        },
        "outputId": "808c585b-0714-494d-bdf8-a6ba38041f0b"
      },
      "source": [
        "model.evaluate(train_dataset.concatenate(test_dataset))"
      ],
      "execution_count": 32,
      "outputs": [
        {
          "output_type": "stream",
          "text": [
            "235/235 [==============================] - 14s 30ms/step - loss: 9.1360 - macro_f1: 0.6170\n"
          ],
          "name": "stdout"
        },
        {
          "output_type": "execute_result",
          "data": {
            "text/plain": [
              "[9.13603401184082, 0.6170454025268555]"
            ]
          },
          "metadata": {
            "tags": []
          },
          "execution_count": 32
        }
      ]
    },
    {
      "cell_type": "code",
      "metadata": {
        "colab": {
          "base_uri": "https://localhost:8080/"
        },
        "id": "HQTogE6T0qwg",
        "outputId": "8040f9f9-dcc0-4445-f5c8-bb91ee09ee3f"
      },
      "source": [
        "def hamming_score(y_true, y_pred, normalize=True, sample_weight=None):\n",
        "    acc_list = []\n",
        "    for i in range(y_true.shape[0]):\n",
        "        set_true = set( np.where(y_true[i])[0] )\n",
        "        set_pred = set( np.where(y_pred[i])[0] )\n",
        "        tmp_a = None\n",
        "        if len(set_true) == 0 and len(set_pred) == 0:\n",
        "            tmp_a = 1\n",
        "        else:\n",
        "            tmp_a = len(set_true.intersection(set_pred))/\\\n",
        "                    float( len(set_true.union(set_pred)) )\n",
        "        acc_list.append(tmp_a)\n",
        "    return np.mean(acc_list)\n",
        "\n",
        "metric = tfa.metrics.HammingLoss(mode=\"multilabel\", threshold=0.5)\n",
        "metric.update_state(y_true, y_pred)\n",
        "print(\"Hamming Loss: {}\".format(metric.result().numpy()))\n",
        "print(\"Hamming Score: {}\".format(hamming_score(y_true, y_classes)))"
      ],
      "execution_count": 35,
      "outputs": [
        {
          "output_type": "stream",
          "text": [
            "Hamming Loss: 0.05403333529829979\n",
            "Hamming Score: 0.6470999999999999\n"
          ],
          "name": "stdout"
        }
      ]
    },
    {
      "cell_type": "markdown",
      "metadata": {
        "id": "7BH0eq_5lUEn"
      },
      "source": [
        "### Show predictions from the test dataset"
      ]
    },
    {
      "cell_type": "code",
      "metadata": {
        "colab": {
          "base_uri": "https://localhost:8080/",
          "height": 282
        },
        "id": "zOXnkgBs6OC4",
        "outputId": "cbce9f87-559a-41c8-aad1-46e2d847a7d6"
      },
      "source": [
        "index = np.random.randint(0, TEST_SIZE)\n",
        "for (feats, labs) in unbatched_test.skip(index).take(1):\n",
        "    text = feats['text_model_input']\n",
        "    image = feats['cnn_model_input']\n",
        "    image_show = feats['original_images']\n",
        "\n",
        "image = preprocess_image(image_show)\n",
        "pred_img = model.predict([tf.convert_to_tensor([text]), np.expand_dims(image, axis=0)])\n",
        "class_img = np.where(pred_img > 0.5, 1, 0)\n",
        "print(\"Actual: {}\".format(labels[labs.numpy() == 1]))\n",
        "plt.imshow(np.clip(image_show/255., 0, 1))\n",
        "plt.axis('off')\n",
        "print(\"Predicted: {}\".format(labels[class_img[0] == 1]))"
      ],
      "execution_count": 56,
      "outputs": [
        {
          "output_type": "stream",
          "text": [
            "Actual: ['person' 'dining table']\n",
            "Predicted: ['person' 'dining table']\n"
          ],
          "name": "stdout"
        },
        {
          "output_type": "display_data",
          "data": {
            "image/png": "[encoded data removed]",
            "text/plain": [
              "<Figure size 432x288 with 1 Axes>"
            ]
          },
          "metadata": {
            "tags": [],
            "needs_background": "light"
          }
        }
      ]
    },
    {
      "cell_type": "markdown",
      "metadata": {
        "id": "aGQjO7mWl696"
      },
      "source": [
        "### Classification Report"
      ]
    },
    {
      "cell_type": "code",
      "metadata": {
        "id": "GaBoqrtXJwHg"
      },
      "source": [
        "complete_dataset = train_dataset.concatenate(test_dataset).unbatch()"
      ],
      "execution_count": 57,
      "outputs": []
    },
    {
      "cell_type": "code",
      "metadata": {
        "id": "e87p79lM4jH8",
        "colab": {
          "base_uri": "https://localhost:8080/",
          "height": 66,
          "referenced_widgets": [
            "ed891f8d2d614fcc9689bd6ca89a7938",
            "f79a0b6d3a154cd2b703160c3f36212b",
            "f9099953cdff4665a3736667d3a0ff0e",
            "bffa8670e8644886828272ed599260d4",
            "e20c5b207f5b4494badfeef4789b1580",
            "fa69cd2a13c44d29bf869430071c7f26",
            "4fbfa80d90494551a407e29f58fcafd7",
            "469841f269914e51893e830132f5dfc5"
          ]
        },
        "outputId": "b9a3d5f4-a71e-43fb-cf6e-dbea225d20a7"
      },
      "source": [
        "y_true_complete = []\n",
        "texts = []\n",
        "feats = []\n",
        "for x, y in tq.tqdm(complete_dataset.as_numpy_iterator(), total=DATASET_SIZE):\n",
        "    y_true_complete.append(y)\n",
        "    texts.append(x['text_model_input'])\n",
        "    feats.append(x['cnn_model_input'])\n",
        "texts = tf.convert_to_tensor(texts)\n",
        "feats = tf.convert_to_tensor(feats)\n",
        "y_pred_complete = model.predict([texts, feats])\n",
        "y_classes_complete = np.where(y_pred_complete > 0.5, 1, 0)\n",
        "del texts\n",
        "del feats"
      ],
      "execution_count": 58,
      "outputs": [
        {
          "output_type": "display_data",
          "data": {
            "application/vnd.jupyter.widget-view+json": {
              "model_id": "ed891f8d2d614fcc9689bd6ca89a7938",
              "version_minor": 0,
              "version_major": 2
            },
            "text/plain": [
              "HBox(children=(FloatProgress(value=0.0, max=7500.0), HTML(value='')))"
            ]
          },
          "metadata": {
            "tags": []
          }
        },
        {
          "output_type": "stream",
          "text": [
            "\n"
          ],
          "name": "stdout"
        }
      ]
    },
    {
      "cell_type": "markdown",
      "metadata": {
        "id": "myOTXkL96jRK"
      },
      "source": [
        "#### Complete dataset"
      ]
    },
    {
      "cell_type": "code",
      "metadata": {
        "id": "C9I-MaRqTkDW",
        "colab": {
          "base_uri": "https://localhost:8080/"
        },
        "outputId": "ad47d59d-f487-4adc-d546-6164d4f7bdbf"
      },
      "source": [
        "print(classification_report(y_true_complete, y_classes_complete, zero_division=1))"
      ],
      "execution_count": 59,
      "outputs": [
        {
          "output_type": "stream",
          "text": [
            "              precision    recall  f1-score   support\n",
            "\n",
            "           0       0.73      1.00      0.85      5482\n",
            "           1       0.95      0.71      0.81       533\n",
            "           2       0.98      0.69      0.81       652\n",
            "           3       0.91      0.90      0.90       280\n",
            "           4       0.69      0.71      0.70      1035\n",
            "           5       1.00      0.88      0.94       309\n",
            "           6       0.98      0.92      0.95       282\n",
            "           7       0.96      0.84      0.90       548\n",
            "           8       0.84      0.92      0.88       313\n",
            "           9       1.00      0.89      0.94       290\n",
            "          10       0.84      0.92      0.88       315\n",
            "          11       0.73      0.75      0.74       657\n",
            "          12       0.99      0.90      0.94       547\n",
            "          13       0.97      0.87      0.92       318\n",
            "          14       0.87      0.85      0.86       338\n",
            "          15       0.69      0.66      0.67       621\n",
            "          16       0.70      0.83      0.76      1221\n",
            "          17       0.95      0.66      0.78       319\n",
            "          18       0.88      0.88      0.88       381\n",
            "          19       0.91      0.90      0.90       346\n",
            "\n",
            "   micro avg       0.79      0.88      0.83     14787\n",
            "   macro avg       0.88      0.83      0.85     14787\n",
            "weighted avg       0.81      0.88      0.83     14787\n",
            " samples avg       0.82      0.91      0.83     14787\n",
            "\n"
          ],
          "name": "stdout"
        }
      ]
    },
    {
      "cell_type": "markdown",
      "metadata": {
        "id": "_7RUGTHV6m3G"
      },
      "source": [
        "#### Test dataset"
      ]
    },
    {
      "cell_type": "code",
      "metadata": {
        "colab": {
          "base_uri": "https://localhost:8080/"
        },
        "id": "-OKv426G6pTM",
        "outputId": "11ca9b91-4c8f-4979-a6c1-56a491765ed5"
      },
      "source": [
        "print(classification_report(y_true, y_classes, zero_division=1))"
      ],
      "execution_count": 60,
      "outputs": [
        {
          "output_type": "stream",
          "text": [
            "              precision    recall  f1-score   support\n",
            "\n",
            "           0       0.62      1.00      0.77       932\n",
            "           1       0.90      0.66      0.76       136\n",
            "           2       0.98      0.86      0.91       106\n",
            "           3       0.81      0.84      0.82        85\n",
            "           4       0.61      0.61      0.61       132\n",
            "           5       1.00      0.78      0.87        89\n",
            "           6       0.93      0.83      0.88        84\n",
            "           7       0.92      0.77      0.84        71\n",
            "           8       0.87      0.76      0.81        96\n",
            "           9       1.00      0.77      0.87       104\n",
            "          10       0.76      0.88      0.82        86\n",
            "          11       0.65      0.72      0.68       186\n",
            "          12       0.96      0.81      0.88       140\n",
            "          13       0.98      0.90      0.94        92\n",
            "          14       0.50      0.77      0.61        48\n",
            "          15       0.58      0.51      0.54       194\n",
            "          16       0.62      0.75      0.68       271\n",
            "          17       0.87      0.43      0.58        79\n",
            "          18       0.89      0.82      0.85       109\n",
            "          19       0.79      0.80      0.80       105\n",
            "\n",
            "   micro avg       0.71      0.81      0.76      3145\n",
            "   macro avg       0.81      0.76      0.78      3145\n",
            "weighted avg       0.74      0.81      0.76      3145\n",
            " samples avg       0.73      0.85      0.75      3145\n",
            "\n"
          ],
          "name": "stdout"
        }
      ]
    }
  ]
}