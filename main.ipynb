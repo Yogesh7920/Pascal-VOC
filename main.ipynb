{
 "nbformat": 4,
 "nbformat_minor": 0,
 "metadata": {
  "colab": {
   "name": "DL_Team7.ipynb",
   "provenance": [],
   "collapsed_sections": []
  },
  "kernelspec": {
   "name": "python3",
   "language": "python",
   "display_name": "Python 3"
  },
  "language_info": {
   "name": "python",
   "version": "3.6.9-final"
  },
  "metadata": {
   "interpreter": {
    "hash": "4cd7ab41f5fca4b9b44701077e38c5ffd31fe66a6cab21e0214b68d958d0e462"
   }
  }
 },
 "cells": [
  {
   "cell_type": "markdown",
   "source": [
    "## Imports"
   ],
   "metadata": {
    "collapsed": false,
    "pycharm": {
     "name": "#%% md\n"
    }
   }
  },
  {
   "cell_type": "code",
   "execution_count": 1,
   "metadata": {},
   "outputs": [],
   "source": [
    "import os\n",
    "import re\n",
    "import pprint\n",
    "import matplotlib.pyplot as plt\n",
    "import matplotlib.image as mpimg\n",
    "import xmltodict\n",
    "import numpy as np\n",
    "import scipy.io\n",
    "from PIL import Image\n",
    "\n",
    "import requests\n",
    "import shutil\n",
    "\n",
    "from initial import dataset_from_raw, preprocessing as init_processing\n",
    "\n",
    "from config import Config\n",
    "import utils\n",
    "\n"
   ]
  },
  {
   "cell_type": "markdown",
   "source": [
    "## Raw Dataset"
   ],
   "metadata": {
    "collapsed": false,
    "pycharm": {
     "name": "#%% md\n"
    }
   }
  },
  {
   "cell_type": "code",
   "execution_count": 2,
   "metadata": {},
   "outputs": [],
   "source": [
    "# !wget https://filebox.ece.vt.edu/~vrama91/CIDEr_miscellanous/cider_datasets.tarB\n",
    "# !tar -xvf cider_datasets.tar"
   ]
  },
  {
   "cell_type": "markdown",
   "source": [
    "## Parsing dataset"
   ],
   "metadata": {
    "collapsed": false,
    "pycharm": {
     "name": "#%% md\n"
    }
   }
  },
  {
   "cell_type": "code",
   "execution_count": 3,
   "metadata": {
    "pycharm": {
     "name": "#%%\n"
    }
   },
   "outputs": [],
   "source": [
    "# dataset_from_raw.dataset_from_raw()\n",
    "# init_processing.annots_preprocessing()"
   ]
  },
  {
   "cell_type": "code",
   "execution_count": 4,
   "outputs": [
    {
     "name": "stdout",
     "output_type": "stream",
     "text": [
      "\n",
      "jenny is batting and mike is throwing in a game of baseball.\n",
      "mike and jenny are playing baseball together while their cat watches them.\n",
      "mike and jenny are going to a baseball game.\n",
      "mike and jenny are playing baseball together.\n",
      "jenny just hit a home run in baseball.  her and mike jump up excitedly.\n",
      "jenny is holding a baseball bat while mike is smiling with a glove and hat on.\n",
      "the two kids are playing baseball.\n",
      "mike and jenny play a game of baseball.\n",
      "mike and jenny are playing baseball next to a cat.\n",
      "happy jenny holds the baseball hat while happy mike holds up his hands.\n",
      "mike and jenny are playing baseball, with jenny batting and mike pitching.\n",
      "jenny and mike won the game and it is time to celebrate!\n",
      "jill is running with a baseball bat towards jack with a catchers glove.\n",
      "mike and jenny are playing baseball while the cat watches from a distance.\n",
      "mike and jenny are playing baseball.\n",
      "mike and jenny are playing baseball outside.\n",
      "jenny and mike are happily playing baseball.\n",
      "jenny and mike are playing baseball.\n",
      "mike and jenny are playing baseball at the park.\n",
      "mike is so happy to see that jenny did remember to bring the baseball bat.\n",
      "jenny and mike are playing with the baseball and the mitt.\n",
      "mike and jenny enjoy playing baseball together.\n",
      "jenny and mike are happy to be outside playing baseball.\n",
      "jenny and mike are playing baseball\n",
      "jenny and mike are both happily playing baseball with eachother.\n",
      "jenny and mike have fun playing baseball.\n",
      "jenny is running to mike to play baseball.\n",
      "jenny and mike are playing baseball together.\n",
      "mike holds the baseball mit and jenny holds the bat.\n",
      "jenny bats while mike catches during a game of baseball.\n",
      "jenny and mike are playing baseball while a cat watches.\n",
      "mike and jenny are playing baseball without a ball.\n",
      "jenny and mike are having a baseball game outside.\n",
      "jenny and mike are playing with a bat and a glove\n",
      "mike and jenny are enjoying a game of baseball.\n",
      "mike and jenny are playing baseball while the cat watches.\n",
      "jenny and mike are having fun playing baseball.\n",
      "jenny is holding the bat and mike is holding the catchers mitt.\n",
      "jenny has a baseball bat and mike has a baseball glove.\n"
     ]
    },
    {
     "data": {
      "text/plain": "<Figure size 432x288 with 1 Axes>",
      "image/png": "[encoded data removed]"
     },
     "metadata": {
      "needs_background": "light"
     },
     "output_type": "display_data"
    }
   ],
   "source": [
    "utils.show_example(Config.abstract50s, 0)"
   ],
   "metadata": {
    "collapsed": false,
    "pycharm": {
     "name": "#%%\n"
    }
   }
  },
  {
   "cell_type": "markdown",
   "source": [
    "# Caption processing"
   ],
   "metadata": {
    "collapsed": false,
    "pycharm": {
     "name": "#%% md\n"
    }
   }
  },
  {
   "cell_type": "code",
   "execution_count": 5,
   "outputs": [],
   "source": [
    "import nltk\n",
    "from nltk.corpus import stopwords\n",
    "from nltk.stem import WordNetLemmatizer\n",
    "from nltk.stem import SnowballStemmer\n",
    "from nltk.corpus import wordnet\n",
    "from preprocessing import preprocess_caption, get_wordnet_pos, lemmatize_caption"
   ],
   "metadata": {
    "collapsed": false,
    "pycharm": {
     "name": "#%%\n"
    }
   }
  },
  {
   "cell_type": "code",
   "execution_count": 6,
   "outputs": [],
   "source": [
    "stemmer = SnowballStemmer('english')\n",
    "lemmatizer = WordNetLemmatizer()"
   ],
   "metadata": {
    "collapsed": false,
    "pycharm": {
     "name": "#%%\n"
    }
   }
  },
  {
   "cell_type": "code",
   "execution_count": 17,
   "outputs": [
    {
     "name": "stdout",
     "output_type": "stream",
     "text": [
      "\n",
      "throw mike jenni bat basebal game\n",
      "play mike jenni basebal cat watch togeth\n",
      "go mike jenni basebal game\n",
      "play mike jenni basebal togeth\n",
      "jump mike home jenni hit run basebal excit\n",
      "smile glove mike hold jenni bat hat basebal\n",
      "play two kid basebal\n",
      "play mike jenni basebal game\n",
      "next play mike jenni basebal cat\n",
      "mike happi hand hold jenni hat basebal\n",
      "play mike jenni bat pitch basebal\n",
      "mike jenni celebr game time\n",
      "catcher toward glove jack bat run basebal jill\n",
      "play mike distanc jenni basebal cat watch\n",
      "play jenni mike basebal\n",
      "play mike outsid jenni basebal\n",
      "play mike jenni basebal happili\n",
      "play jenni mike basebal\n",
      "play mike jenni basebal park\n",
      "rememb mike happi bring jenni bat see basebal\n",
      "play mike jenni basebal mitt\n",
      "play mike jenni basebal enjoy togeth\n",
      "play mike happi outsid jenni basebal\n",
      "play jenni mike basebal\n",
      "play eachoth mike jenni basebal happili\n",
      "fun play mike jenni basebal\n",
      "play mike jenni run basebal\n",
      "play mike jenni basebal togeth\n",
      "mike hold jenni bat basebal mit\n",
      "catch mike jenni bat basebal game\n",
      "play mike jenni basebal cat watch\n",
      "without ball play mike jenni basebal\n",
      "mike outsid jenni basebal game\n",
      "play glove mike jenni bat\n",
      "mike jenni basebal enjoy game\n",
      "play mike jenni basebal cat watch\n",
      "fun play mike jenni basebal\n",
      "catcher mike hold jenni bat mitt\n",
      "glove mike jenni bat basebal\n"
     ]
    }
   ],
   "source": [
    "for i in range(1):\n",
    "    annots = utils.get_annots(Config.abstract50s, i)\n",
    "    captions = annots.split('\\n')\n",
    "\n",
    "    for c in captions:\n",
    "        caption = preprocess_caption(c)\n",
    "        lem_caption = lemmatize_caption(caption, lemmatizer, stemmer)\n",
    "        print(lem_caption)\n"
   ],
   "metadata": {
    "collapsed": false,
    "pycharm": {
     "name": "#%%\n"
    }
   }
  },
  {
   "cell_type": "code",
   "execution_count": null,
   "outputs": [],
   "source": [],
   "metadata": {
    "collapsed": false,
    "pycharm": {
     "name": "#%%\n"
    }
   }
  }
 ]
}